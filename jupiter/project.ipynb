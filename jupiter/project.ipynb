{
 "cells": [
  {
   "cell_type": "code",
   "execution_count": 516,
   "metadata": {
    "pycharm": {
     "name": "#%%\n"
    }
   },
   "outputs": [],
   "source": [
    "import pandas as pd\n",
    "import numpy as np"
   ]
  },
  {
   "cell_type": "markdown",
   "metadata": {
    "pycharm": {
     "name": "#%% md\n"
    }
   },
   "source": [
    "# Gas Dataset load and data prep"
   ]
  },
  {
   "cell_type": "code",
   "execution_count": 517,
   "metadata": {
    "collapsed": false,
    "pycharm": {
     "name": "#%%\n"
    }
   },
   "outputs": [
    {
     "data": {
      "text/html": [
       "<div>\n",
       "<style scoped>\n",
       "    .dataframe tbody tr th:only-of-type {\n",
       "        vertical-align: middle;\n",
       "    }\n",
       "\n",
       "    .dataframe tbody tr th {\n",
       "        vertical-align: top;\n",
       "    }\n",
       "\n",
       "    .dataframe thead th {\n",
       "        text-align: right;\n",
       "    }\n",
       "</style>\n",
       "<table border=\"1\" class=\"dataframe\">\n",
       "  <thead>\n",
       "    <tr style=\"text-align: right;\">\n",
       "      <th></th>\n",
       "      <th>initial_date</th>\n",
       "      <th>region</th>\n",
       "      <th>gas_stations_searched</th>\n",
       "      <th>UNIDADE DE MEDIDA</th>\n",
       "      <th>avg_price</th>\n",
       "      <th>MARGEM MÉDIA REVENDA</th>\n",
       "      <th>month</th>\n",
       "      <th>year</th>\n",
       "    </tr>\n",
       "  </thead>\n",
       "  <tbody>\n",
       "    <tr>\n",
       "      <th>12064</th>\n",
       "      <td>2004-05-09</td>\n",
       "      <td>CENTRO OESTE</td>\n",
       "      <td>128</td>\n",
       "      <td>R$/l</td>\n",
       "      <td>2.029</td>\n",
       "      <td>0.318</td>\n",
       "      <td>5</td>\n",
       "      <td>2004</td>\n",
       "    </tr>\n",
       "    <tr>\n",
       "      <th>12065</th>\n",
       "      <td>2004-05-09</td>\n",
       "      <td>CENTRO OESTE</td>\n",
       "      <td>395</td>\n",
       "      <td>R$/l</td>\n",
       "      <td>2.025</td>\n",
       "      <td>0.296</td>\n",
       "      <td>5</td>\n",
       "      <td>2004</td>\n",
       "    </tr>\n",
       "    <tr>\n",
       "      <th>12066</th>\n",
       "      <td>2004-05-09</td>\n",
       "      <td>CENTRO OESTE</td>\n",
       "      <td>194</td>\n",
       "      <td>R$/l</td>\n",
       "      <td>2.358</td>\n",
       "      <td>0.472</td>\n",
       "      <td>5</td>\n",
       "      <td>2004</td>\n",
       "    </tr>\n",
       "    <tr>\n",
       "      <th>12067</th>\n",
       "      <td>2004-05-09</td>\n",
       "      <td>CENTRO OESTE</td>\n",
       "      <td>166</td>\n",
       "      <td>R$/l</td>\n",
       "      <td>2.120</td>\n",
       "      <td>0.325</td>\n",
       "      <td>5</td>\n",
       "      <td>2004</td>\n",
       "    </tr>\n",
       "    <tr>\n",
       "      <th>12068</th>\n",
       "      <td>2004-05-09</td>\n",
       "      <td>NORDESTE</td>\n",
       "      <td>106</td>\n",
       "      <td>R$/l</td>\n",
       "      <td>2.090</td>\n",
       "      <td>0.35</td>\n",
       "      <td>5</td>\n",
       "      <td>2004</td>\n",
       "    </tr>\n",
       "  </tbody>\n",
       "</table>\n",
       "</div>"
      ],
      "text/plain": [
       "      initial_date        region  gas_stations_searched UNIDADE DE MEDIDA  \\\n",
       "12064   2004-05-09  CENTRO OESTE                    128              R$/l   \n",
       "12065   2004-05-09  CENTRO OESTE                    395              R$/l   \n",
       "12066   2004-05-09  CENTRO OESTE                    194              R$/l   \n",
       "12067   2004-05-09  CENTRO OESTE                    166              R$/l   \n",
       "12068   2004-05-09      NORDESTE                    106              R$/l   \n",
       "\n",
       "       avg_price MARGEM MÉDIA REVENDA  month  year  \n",
       "12064      2.029                0.318      5  2004  \n",
       "12065      2.025                0.296      5  2004  \n",
       "12066      2.358                0.472      5  2004  \n",
       "12067      2.120                0.325      5  2004  \n",
       "12068      2.090                 0.35      5  2004  "
      ]
     },
     "execution_count": 517,
     "metadata": {},
     "output_type": "execute_result"
    }
   ],
   "source": [
    "df = pd.read_csv (r'..\\\\DataSet/2004-2021.tsv', sep = '\\t')\n",
    "isGas = df['PRODUTO']==\"GASOLINA COMUM\"\n",
    "df_gas = df[isGas]\n",
    "\n",
    "# Retirando colunas desnecessárias.\n",
    "df_gas = df_gas.drop(['PREÇO MÉDIO DISTRIBUIÇÃO',\n",
    "                      'DESVIO PADRÃO DISTRIBUIÇÃO',\n",
    "                      'PREÇO MÍNIMO DISTRIBUIÇÃO',\n",
    "                      'PREÇO MÁXIMO DISTRIBUIÇÃO',\n",
    "                      'COEF DE VARIAÇÃO DISTRIBUIÇÃO',\n",
    "                      'DATA FINAL',\n",
    "                      'PRODUTO',\n",
    "                      'ESTADO',\n",
    "                      'DESVIO PADRÃO REVENDA',\n",
    "                      'PREÇO MÍNIMO REVENDA',\n",
    "                      'PREÇO MÁXIMO REVENDA',\n",
    "                      'COEF DE VARIAÇÃO REVENDA'], axis=1)\n",
    "\n",
    "# Renomeando colunas para o padrão correto.\n",
    "df_gas.rename(columns = {\n",
    "    'NÚMERO DE POSTOS PESQUISADOS':'gas_stations_searched',\n",
    "    'PREÇO MÉDIO REVENDA':'avg_price',\n",
    "    'DATA INICIAL':'initial_date',\n",
    "    'REGIÃO':'region',\n",
    "    'month':'month',\n",
    "    'ANO':'year'\n",
    "}, inplace = True)\n",
    "\n",
    "df_gas['initial_date'] = pd.to_datetime(df_gas['initial_date'], format='%Y-%m-%d')\n",
    "df_gas['month'] = pd.DatetimeIndex(df_gas['initial_date']).month\n",
    "df_gas['year'] = pd.DatetimeIndex(df_gas['initial_date']).year\n",
    "df_gas.head()"
   ]
  },
  {
   "cell_type": "code",
   "execution_count": 518,
   "metadata": {
    "collapsed": false,
    "pycharm": {
     "name": "#%%\n"
    }
   },
   "outputs": [],
   "source": [
    "# region_centro_oeste = df_gas['region']==\"CENTRO OESTE\"\n",
    "# df_gas_centro_oeste = df_gas[region_centro_oeste]\n",
    "# df_gas_centro_oeste_gp = df_gas_centro_oeste.groupby(by=['year', 'month']).mean()\n",
    "# #dfGasGroup = dfGasGroup.drop(['month'], axis=1)s\n",
    "# df_gas_centro_oeste_gp"
   ]
  },
  {
   "cell_type": "code",
   "execution_count": 519,
   "metadata": {
    "collapsed": false,
    "pycharm": {
     "name": "#%%\n"
    }
   },
   "outputs": [],
   "source": [
    "# region_nordeste = df_gas['region']==\"NORDESTE\"\n",
    "# df_gas_nordeste = df_gas[region_nordeste]\n",
    "# df_gas_nordeste_gp = df_gas_nordeste.groupby(by=['year', 'month', 'region']).mean()\n",
    "# #dfGasGroup = dfGasGroup.drop(['REGIÃO'], axis=1)\n",
    "# df_gas_nordeste_gp"
   ]
  },
  {
   "cell_type": "code",
   "execution_count": 520,
   "metadata": {
    "collapsed": false,
    "pycharm": {
     "name": "#%%\n"
    }
   },
   "outputs": [],
   "source": [
    "# region_sudeste = df_gas['region']=='SUDESTE'\n",
    "# df_gas_sudeste = df_gas[region_sudeste]\n",
    "# df_Gas_sudeste_gp = df_gas_sudeste.groupby(by=['year', 'month', 'region']).mean()\n",
    "# df_Gas_sudeste_gp"
   ]
  },
  {
   "cell_type": "code",
   "execution_count": 521,
   "metadata": {
    "collapsed": false,
    "pycharm": {
     "name": "#%%\n"
    }
   },
   "outputs": [],
   "source": [
    "# region_sul = df_gas['region']=='SUL'\n",
    "# df_gas_sul = df_gas[region_sul]\n",
    "# df_gas_sul_gp = df_gas_sul.groupby(by=['year', 'month', 'region']).mean()\n",
    "# df_gas_sul_gp"
   ]
  },
  {
   "cell_type": "code",
   "execution_count": 522,
   "metadata": {
    "collapsed": false,
    "pycharm": {
     "name": "#%%\n"
    }
   },
   "outputs": [],
   "source": [
    "# region_norte = df_gas['region']=='NORTE'\n",
    "# df_gas_norte = df_gas[region_norte]\n",
    "# df_gas_norte_gp = df_gas_norte.groupby(by=['year', 'month', 'region']).mean()\n",
    "# df_gas_norte_gp"
   ]
  },
  {
   "cell_type": "markdown",
   "metadata": {
    "collapsed": false,
    "pycharm": {
     "name": "#%% md\n"
    }
   },
   "source": [
    "# Petroleum Dataset load and data prep"
   ]
  },
  {
   "cell_type": "code",
   "execution_count": 523,
   "metadata": {
    "collapsed": false,
    "pycharm": {
     "name": "#%%\n"
    }
   },
   "outputs": [],
   "source": [
    "csv_location = '..\\\\DataSet\\Petróleo Brent Futuros Dados Históricos.csv'\n",
    "dfPetro = pd.read_csv (csv_location)"
   ]
  },
  {
   "cell_type": "code",
   "execution_count": 524,
   "metadata": {
    "collapsed": false,
    "pycharm": {
     "name": "#%%\n"
    }
   },
   "outputs": [],
   "source": [
    "dfPetro['Data'] = pd.to_datetime(dfPetro['Data'], format='%d.%m.%Y')\n",
    "dfPetro['month'] = pd.DatetimeIndex(dfPetro['Data']).month\n",
    "dfPetro['year'] = pd.DatetimeIndex(dfPetro['Data']).year\n",
    "\n",
    "dfPetro['Último'] = dfPetro['Último'].astype('str')\n",
    "dfPetro['Último'] = dfPetro['Último'].str.replace(',', '.')\n",
    "dfPetro['Último'] = pd.to_numeric(dfPetro['Último'], errors='coerce')\n",
    "\n",
    "dfPetro['Máxima'] = dfPetro['Máxima'].astype('str')\n",
    "dfPetro['Máxima'] = dfPetro['Máxima'].str.replace(',', '.')\n",
    "dfPetro['Máxima'] = pd.to_numeric(dfPetro['Máxima'], errors='coerce')\n",
    "\n",
    "dfPetro['Mínima'] = dfPetro['Mínima'].astype('str')\n",
    "dfPetro['Mínima'] = dfPetro['Mínima'].str.replace(',', '.')\n",
    "dfPetro['Mínima'] = pd.to_numeric(dfPetro['Mínima'], errors='coerce')\n",
    "\n",
    "#dfPetro['Último'] = dfPetro['Último'].astype('str') \n",
    "#dfPetro.apply(lambda x: x.str.replace(',','.'))\n",
    "#dfPetro['Último'] = dfPetro['Último'].astype(float)\n",
    "#print(dfPetro.dtypes)\n",
    "#dfPetro"
   ]
  },
  {
   "cell_type": "code",
   "execution_count": 525,
   "metadata": {
    "collapsed": false,
    "pycharm": {
     "name": "#%%\n"
    }
   },
   "outputs": [
    {
     "data": {
      "text/html": [
       "<div>\n",
       "<style scoped>\n",
       "    .dataframe tbody tr th:only-of-type {\n",
       "        vertical-align: middle;\n",
       "    }\n",
       "\n",
       "    .dataframe tbody tr th {\n",
       "        vertical-align: top;\n",
       "    }\n",
       "\n",
       "    .dataframe thead th {\n",
       "        text-align: right;\n",
       "    }\n",
       "</style>\n",
       "<table border=\"1\" class=\"dataframe\">\n",
       "  <thead>\n",
       "    <tr style=\"text-align: right;\">\n",
       "      <th></th>\n",
       "      <th>Data</th>\n",
       "      <th>Último</th>\n",
       "      <th>Abertura</th>\n",
       "      <th>Máxima</th>\n",
       "      <th>Mínima</th>\n",
       "      <th>Vol.</th>\n",
       "      <th>Var%</th>\n",
       "      <th>month</th>\n",
       "      <th>year</th>\n",
       "    </tr>\n",
       "  </thead>\n",
       "  <tbody>\n",
       "    <tr>\n",
       "      <th>0</th>\n",
       "      <td>2021-12-31</td>\n",
       "      <td>77.78</td>\n",
       "      <td>78,81</td>\n",
       "      <td>79.68</td>\n",
       "      <td>77.55</td>\n",
       "      <td>148,96K</td>\n",
       "      <td>-1,94%</td>\n",
       "      <td>12</td>\n",
       "      <td>2021</td>\n",
       "    </tr>\n",
       "    <tr>\n",
       "      <th>1</th>\n",
       "      <td>2021-12-30</td>\n",
       "      <td>79.32</td>\n",
       "      <td>79,19</td>\n",
       "      <td>79.66</td>\n",
       "      <td>78.50</td>\n",
       "      <td>10,90K</td>\n",
       "      <td>0,11%</td>\n",
       "      <td>12</td>\n",
       "      <td>2021</td>\n",
       "    </tr>\n",
       "    <tr>\n",
       "      <th>2</th>\n",
       "      <td>2021-12-29</td>\n",
       "      <td>79.23</td>\n",
       "      <td>79,28</td>\n",
       "      <td>80.17</td>\n",
       "      <td>78.13</td>\n",
       "      <td>69,63K</td>\n",
       "      <td>0,37%</td>\n",
       "      <td>12</td>\n",
       "      <td>2021</td>\n",
       "    </tr>\n",
       "    <tr>\n",
       "      <th>3</th>\n",
       "      <td>2021-12-28</td>\n",
       "      <td>78.94</td>\n",
       "      <td>78,67</td>\n",
       "      <td>79.85</td>\n",
       "      <td>78.48</td>\n",
       "      <td>50,41K</td>\n",
       "      <td>0,43%</td>\n",
       "      <td>12</td>\n",
       "      <td>2021</td>\n",
       "    </tr>\n",
       "    <tr>\n",
       "      <th>4</th>\n",
       "      <td>2021-12-27</td>\n",
       "      <td>78.60</td>\n",
       "      <td>76,32</td>\n",
       "      <td>79.08</td>\n",
       "      <td>75.75</td>\n",
       "      <td>85,39K</td>\n",
       "      <td>3,23%</td>\n",
       "      <td>12</td>\n",
       "      <td>2021</td>\n",
       "    </tr>\n",
       "    <tr>\n",
       "      <th>...</th>\n",
       "      <td>...</td>\n",
       "      <td>...</td>\n",
       "      <td>...</td>\n",
       "      <td>...</td>\n",
       "      <td>...</td>\n",
       "      <td>...</td>\n",
       "      <td>...</td>\n",
       "      <td>...</td>\n",
       "      <td>...</td>\n",
       "    </tr>\n",
       "    <tr>\n",
       "      <th>2836</th>\n",
       "      <td>2011-01-07</td>\n",
       "      <td>93.33</td>\n",
       "      <td>94,38</td>\n",
       "      <td>94.58</td>\n",
       "      <td>92.59</td>\n",
       "      <td>165,97K</td>\n",
       "      <td>-1,26%</td>\n",
       "      <td>1</td>\n",
       "      <td>2011</td>\n",
       "    </tr>\n",
       "    <tr>\n",
       "      <th>2837</th>\n",
       "      <td>2011-01-06</td>\n",
       "      <td>94.52</td>\n",
       "      <td>95,70</td>\n",
       "      <td>96.12</td>\n",
       "      <td>94.01</td>\n",
       "      <td>217,45K</td>\n",
       "      <td>-1,03%</td>\n",
       "      <td>1</td>\n",
       "      <td>2011</td>\n",
       "    </tr>\n",
       "    <tr>\n",
       "      <th>2838</th>\n",
       "      <td>2011-01-05</td>\n",
       "      <td>95.50</td>\n",
       "      <td>93,35</td>\n",
       "      <td>95.86</td>\n",
       "      <td>92.37</td>\n",
       "      <td>212,40K</td>\n",
       "      <td>2,11%</td>\n",
       "      <td>1</td>\n",
       "      <td>2011</td>\n",
       "    </tr>\n",
       "    <tr>\n",
       "      <th>2839</th>\n",
       "      <td>2011-01-04</td>\n",
       "      <td>93.53</td>\n",
       "      <td>94,92</td>\n",
       "      <td>95.74</td>\n",
       "      <td>92.58</td>\n",
       "      <td>184,63K</td>\n",
       "      <td>-1,38%</td>\n",
       "      <td>1</td>\n",
       "      <td>2011</td>\n",
       "    </tr>\n",
       "    <tr>\n",
       "      <th>2840</th>\n",
       "      <td>2011-01-03</td>\n",
       "      <td>94.84</td>\n",
       "      <td>94,75</td>\n",
       "      <td>96.17</td>\n",
       "      <td>94.50</td>\n",
       "      <td>82,67K</td>\n",
       "      <td>0,09%</td>\n",
       "      <td>1</td>\n",
       "      <td>2011</td>\n",
       "    </tr>\n",
       "  </tbody>\n",
       "</table>\n",
       "<p>2841 rows × 9 columns</p>\n",
       "</div>"
      ],
      "text/plain": [
       "           Data  Último Abertura  Máxima  Mínima     Vol.    Var%  month  year\n",
       "0    2021-12-31   77.78    78,81   79.68   77.55  148,96K  -1,94%     12  2021\n",
       "1    2021-12-30   79.32    79,19   79.66   78.50   10,90K   0,11%     12  2021\n",
       "2    2021-12-29   79.23    79,28   80.17   78.13   69,63K   0,37%     12  2021\n",
       "3    2021-12-28   78.94    78,67   79.85   78.48   50,41K   0,43%     12  2021\n",
       "4    2021-12-27   78.60    76,32   79.08   75.75   85,39K   3,23%     12  2021\n",
       "...         ...     ...      ...     ...     ...      ...     ...    ...   ...\n",
       "2836 2011-01-07   93.33    94,38   94.58   92.59  165,97K  -1,26%      1  2011\n",
       "2837 2011-01-06   94.52    95,70   96.12   94.01  217,45K  -1,03%      1  2011\n",
       "2838 2011-01-05   95.50    93,35   95.86   92.37  212,40K   2,11%      1  2011\n",
       "2839 2011-01-04   93.53    94,92   95.74   92.58  184,63K  -1,38%      1  2011\n",
       "2840 2011-01-03   94.84    94,75   96.17   94.50   82,67K   0,09%      1  2011\n",
       "\n",
       "[2841 rows x 9 columns]"
      ]
     },
     "execution_count": 525,
     "metadata": {},
     "output_type": "execute_result"
    }
   ],
   "source": [
    "dfPetro"
   ]
  },
  {
   "cell_type": "code",
   "execution_count": 526,
   "metadata": {
    "collapsed": false,
    "pycharm": {
     "name": "#%%\n"
    }
   },
   "outputs": [
    {
     "data": {
      "text/html": [
       "<div>\n",
       "<style scoped>\n",
       "    .dataframe tbody tr th:only-of-type {\n",
       "        vertical-align: middle;\n",
       "    }\n",
       "\n",
       "    .dataframe tbody tr th {\n",
       "        vertical-align: top;\n",
       "    }\n",
       "\n",
       "    .dataframe thead th {\n",
       "        text-align: right;\n",
       "    }\n",
       "</style>\n",
       "<table border=\"1\" class=\"dataframe\">\n",
       "  <thead>\n",
       "    <tr style=\"text-align: right;\">\n",
       "      <th></th>\n",
       "      <th></th>\n",
       "      <th>Último</th>\n",
       "      <th>Máxima</th>\n",
       "      <th>Mínima</th>\n",
       "    </tr>\n",
       "    <tr>\n",
       "      <th>ANO</th>\n",
       "      <th>MES</th>\n",
       "      <th></th>\n",
       "      <th></th>\n",
       "      <th></th>\n",
       "    </tr>\n",
       "  </thead>\n",
       "  <tbody>\n",
       "    <tr>\n",
       "      <th rowspan=\"5\" valign=\"top\">2011</th>\n",
       "      <th>1</th>\n",
       "      <td>96.907143</td>\n",
       "      <td>97.820000</td>\n",
       "      <td>95.683333</td>\n",
       "    </tr>\n",
       "    <tr>\n",
       "      <th>2</th>\n",
       "      <td>104.032000</td>\n",
       "      <td>105.879500</td>\n",
       "      <td>102.623000</td>\n",
       "    </tr>\n",
       "    <tr>\n",
       "      <th>3</th>\n",
       "      <td>114.671739</td>\n",
       "      <td>116.022174</td>\n",
       "      <td>112.994783</td>\n",
       "    </tr>\n",
       "    <tr>\n",
       "      <th>4</th>\n",
       "      <td>123.090500</td>\n",
       "      <td>124.113500</td>\n",
       "      <td>121.427500</td>\n",
       "    </tr>\n",
       "    <tr>\n",
       "      <th>5</th>\n",
       "      <td>114.521818</td>\n",
       "      <td>116.437727</td>\n",
       "      <td>112.329091</td>\n",
       "    </tr>\n",
       "    <tr>\n",
       "      <th>...</th>\n",
       "      <th>...</th>\n",
       "      <td>...</td>\n",
       "      <td>...</td>\n",
       "      <td>...</td>\n",
       "    </tr>\n",
       "    <tr>\n",
       "      <th rowspan=\"5\" valign=\"top\">2021</th>\n",
       "      <th>8</th>\n",
       "      <td>70.513636</td>\n",
       "      <td>71.452273</td>\n",
       "      <td>69.298182</td>\n",
       "    </tr>\n",
       "    <tr>\n",
       "      <th>9</th>\n",
       "      <td>74.876364</td>\n",
       "      <td>75.545455</td>\n",
       "      <td>73.793636</td>\n",
       "    </tr>\n",
       "    <tr>\n",
       "      <th>10</th>\n",
       "      <td>83.746190</td>\n",
       "      <td>84.491429</td>\n",
       "      <td>82.534762</td>\n",
       "    </tr>\n",
       "    <tr>\n",
       "      <th>11</th>\n",
       "      <td>80.849545</td>\n",
       "      <td>82.559091</td>\n",
       "      <td>79.667273</td>\n",
       "    </tr>\n",
       "    <tr>\n",
       "      <th>12</th>\n",
       "      <td>74.803913</td>\n",
       "      <td>75.947826</td>\n",
       "      <td>73.372174</td>\n",
       "    </tr>\n",
       "  </tbody>\n",
       "</table>\n",
       "<p>132 rows × 3 columns</p>\n",
       "</div>"
      ],
      "text/plain": [
       "              Último      Máxima      Mínima\n",
       "ANO  MES                                    \n",
       "2011 1     96.907143   97.820000   95.683333\n",
       "     2    104.032000  105.879500  102.623000\n",
       "     3    114.671739  116.022174  112.994783\n",
       "     4    123.090500  124.113500  121.427500\n",
       "     5    114.521818  116.437727  112.329091\n",
       "...              ...         ...         ...\n",
       "2021 8     70.513636   71.452273   69.298182\n",
       "     9     74.876364   75.545455   73.793636\n",
       "     10    83.746190   84.491429   82.534762\n",
       "     11    80.849545   82.559091   79.667273\n",
       "     12    74.803913   75.947826   73.372174\n",
       "\n",
       "[132 rows x 3 columns]"
      ]
     },
     "execution_count": 526,
     "metadata": {},
     "output_type": "execute_result"
    }
   ],
   "source": [
    "dfPeroGroup"
   ]
  },
  {
   "cell_type": "markdown",
   "metadata": {
    "collapsed": false,
    "pycharm": {
     "name": "#%% md\n"
    }
   },
   "source": [
    "# Geração de graficos"
   ]
  },
  {
   "cell_type": "code",
   "execution_count": 527,
   "metadata": {
    "collapsed": false,
    "pycharm": {
     "name": "#%%\n"
    }
   },
   "outputs": [],
   "source": [
    "import matplotlib.pyplot as plt"
   ]
  },
  {
   "cell_type": "code",
   "execution_count": null,
   "metadata": {
    "collapsed": false,
    "pycharm": {
     "name": "#%%\n"
    }
   },
   "outputs": [],
   "source": []
  },
  {
   "cell_type": "code",
   "execution_count": 528,
   "metadata": {
    "collapsed": false,
    "pycharm": {
     "name": "#%%\n"
    }
   },
   "outputs": [
    {
     "data": {
      "text/plain": [
       "<AxesSubplot:xlabel='ANO,MES'>"
      ]
     },
     "execution_count": 528,
     "metadata": {},
     "output_type": "execute_result"
    },
    {
     "data": {
      "image/png": "[encoded data removed]",
      "text/plain": [
       "<Figure size 1440x360 with 1 Axes>"
      ]
     },
     "metadata": {
      "needs_background": "light"
     },
     "output_type": "display_data"
    }
   ],
   "source": [
    "dfPeroGroup['Último'].plot(figsize=(20,5))"
   ]
  },
  {
   "cell_type": "code",
   "execution_count": 529,
   "metadata": {
    "collapsed": false,
    "pycharm": {
     "name": "#%%\n"
    }
   },
   "outputs": [
    {
     "data": {
      "text/plain": [
       "<AxesSubplot:xlabel='year,month'>"
      ]
     },
     "execution_count": 529,
     "metadata": {},
     "output_type": "execute_result"
    },
    {
     "data": {
      "image/png": "[encoded data removed]",
      "text/plain": [
       "<Figure size 1440x360 with 1 Axes>"
      ]
     },
     "metadata": {
      "needs_background": "light"
     },
     "output_type": "display_data"
    }
   ],
   "source": [
    "df_gas_centro_oeste_gp  .plot(figsize=(20,5))"
   ]
  },
  {
   "cell_type": "code",
   "execution_count": 530,
   "metadata": {
    "collapsed": false,
    "pycharm": {
     "name": "#%%\n"
    }
   },
   "outputs": [],
   "source": [
    "# df_gas_norte_gp.plot(figsize=(20,5))"
   ]
  },
  {
   "cell_type": "code",
   "execution_count": 531,
   "metadata": {
    "collapsed": false,
    "pycharm": {
     "name": "#%%\n"
    }
   },
   "outputs": [],
   "source": [
    "# df_gas_sul_gp.plot(figsize=(20,5))"
   ]
  },
  {
   "cell_type": "code",
   "execution_count": 532,
   "metadata": {
    "collapsed": false,
    "pycharm": {
     "name": "#%%\n"
    }
   },
   "outputs": [],
   "source": [
    "# df_Gas_sudeste_gp.plot(figsize=(20,5))"
   ]
  },
  {
   "cell_type": "markdown",
   "metadata": {
    "pycharm": {
     "name": "#%% md\n"
    }
   },
   "source": [
    "# Insight 1"
   ]
  },
  {
   "cell_type": "code",
   "execution_count": 533,
   "metadata": {
    "pycharm": {
     "name": "#%%\n"
    }
   },
   "outputs": [
    {
     "data": {
      "text/html": [
       "<div>\n",
       "<style scoped>\n",
       "    .dataframe tbody tr th:only-of-type {\n",
       "        vertical-align: middle;\n",
       "    }\n",
       "\n",
       "    .dataframe tbody tr th {\n",
       "        vertical-align: top;\n",
       "    }\n",
       "\n",
       "    .dataframe thead th {\n",
       "        text-align: right;\n",
       "    }\n",
       "</style>\n",
       "<table border=\"1\" class=\"dataframe\">\n",
       "  <thead>\n",
       "    <tr style=\"text-align: right;\">\n",
       "      <th></th>\n",
       "      <th>initial_date</th>\n",
       "      <th>avg_price</th>\n",
       "      <th>month</th>\n",
       "      <th>year</th>\n",
       "      <th>semestre</th>\n",
       "    </tr>\n",
       "  </thead>\n",
       "  <tbody>\n",
       "    <tr>\n",
       "      <th>9260</th>\n",
       "      <td>2011-01-02</td>\n",
       "      <td>2.774</td>\n",
       "      <td>1</td>\n",
       "      <td>2011</td>\n",
       "      <td>1</td>\n",
       "    </tr>\n",
       "    <tr>\n",
       "      <th>9261</th>\n",
       "      <td>2011-01-02</td>\n",
       "      <td>2.686</td>\n",
       "      <td>1</td>\n",
       "      <td>2011</td>\n",
       "      <td>1</td>\n",
       "    </tr>\n",
       "    <tr>\n",
       "      <th>9262</th>\n",
       "      <td>2011-01-02</td>\n",
       "      <td>2.806</td>\n",
       "      <td>1</td>\n",
       "      <td>2011</td>\n",
       "      <td>1</td>\n",
       "    </tr>\n",
       "    <tr>\n",
       "      <th>9263</th>\n",
       "      <td>2011-01-02</td>\n",
       "      <td>2.678</td>\n",
       "      <td>1</td>\n",
       "      <td>2011</td>\n",
       "      <td>1</td>\n",
       "    </tr>\n",
       "    <tr>\n",
       "      <th>9264</th>\n",
       "      <td>2011-01-02</td>\n",
       "      <td>2.805</td>\n",
       "      <td>1</td>\n",
       "      <td>2011</td>\n",
       "      <td>1</td>\n",
       "    </tr>\n",
       "    <tr>\n",
       "      <th>...</th>\n",
       "      <td>...</td>\n",
       "      <td>...</td>\n",
       "      <td>...</td>\n",
       "      <td>...</td>\n",
       "      <td>...</td>\n",
       "    </tr>\n",
       "    <tr>\n",
       "      <th>23565</th>\n",
       "      <td>2021-04-25</td>\n",
       "      <td>5.364</td>\n",
       "      <td>4</td>\n",
       "      <td>2021</td>\n",
       "      <td>1</td>\n",
       "    </tr>\n",
       "    <tr>\n",
       "      <th>23566</th>\n",
       "      <td>2021-04-25</td>\n",
       "      <td>5.051</td>\n",
       "      <td>4</td>\n",
       "      <td>2021</td>\n",
       "      <td>1</td>\n",
       "    </tr>\n",
       "    <tr>\n",
       "      <th>23567</th>\n",
       "      <td>2021-04-25</td>\n",
       "      <td>5.265</td>\n",
       "      <td>4</td>\n",
       "      <td>2021</td>\n",
       "      <td>1</td>\n",
       "    </tr>\n",
       "    <tr>\n",
       "      <th>23568</th>\n",
       "      <td>2021-04-25</td>\n",
       "      <td>5.586</td>\n",
       "      <td>4</td>\n",
       "      <td>2021</td>\n",
       "      <td>1</td>\n",
       "    </tr>\n",
       "    <tr>\n",
       "      <th>23569</th>\n",
       "      <td>2021-04-25</td>\n",
       "      <td>5.751</td>\n",
       "      <td>4</td>\n",
       "      <td>2021</td>\n",
       "      <td>1</td>\n",
       "    </tr>\n",
       "  </tbody>\n",
       "</table>\n",
       "<p>14310 rows × 5 columns</p>\n",
       "</div>"
      ],
      "text/plain": [
       "      initial_date  avg_price  month  year  semestre\n",
       "9260    2011-01-02      2.774      1  2011         1\n",
       "9261    2011-01-02      2.686      1  2011         1\n",
       "9262    2011-01-02      2.806      1  2011         1\n",
       "9263    2011-01-02      2.678      1  2011         1\n",
       "9264    2011-01-02      2.805      1  2011         1\n",
       "...            ...        ...    ...   ...       ...\n",
       "23565   2021-04-25      5.364      4  2021         1\n",
       "23566   2021-04-25      5.051      4  2021         1\n",
       "23567   2021-04-25      5.265      4  2021         1\n",
       "23568   2021-04-25      5.586      4  2021         1\n",
       "23569   2021-04-25      5.751      4  2021         1\n",
       "\n",
       "[14310 rows x 5 columns]"
      ]
     },
     "execution_count": 533,
     "metadata": {},
     "output_type": "execute_result"
    }
   ],
   "source": [
    "df_gas_d1 = df_gas.drop(['region','gas_stations_searched', 'UNIDADE DE MEDIDA','MARGEM MÉDIA REVENDA'], axis=1)\n",
    "df_gas_d1['semestre'] = np.where(df_gas_d1['month'] < 7, 1, 2)\n",
    "#df_gas_d1 = df_gas_d1.groupby(by=['year', 'semestre']).mean()\n",
    "#df_gas_d1 = df_gas_d1.drop('month', axis=1)\n",
    "#df_gas_d1 = df_gas_d1.sort_values(by=['year', 'semestre'], ascending=True)\n",
    "df_gas_d1 = df_gas_d1.reset_index(drop=True)\n",
    "df_mask=df_gas_d1['year']>2010\n",
    "df_gas_d1 = df_gas_d1[df_mask]\n",
    "\n",
    "df_gas_d1"
   ]
  },
  {
   "cell_type": "code",
   "execution_count": 534,
   "metadata": {
    "pycharm": {
     "name": "#%%\n"
    }
   },
   "outputs": [
    {
     "data": {
      "text/html": [
       "<div>\n",
       "<style scoped>\n",
       "    .dataframe tbody tr th:only-of-type {\n",
       "        vertical-align: middle;\n",
       "    }\n",
       "\n",
       "    .dataframe tbody tr th {\n",
       "        vertical-align: top;\n",
       "    }\n",
       "\n",
       "    .dataframe thead th {\n",
       "        text-align: right;\n",
       "    }\n",
       "</style>\n",
       "<table border=\"1\" class=\"dataframe\">\n",
       "  <thead>\n",
       "    <tr style=\"text-align: right;\">\n",
       "      <th></th>\n",
       "      <th>index</th>\n",
       "      <th>Data</th>\n",
       "      <th>year</th>\n",
       "      <th>PrecoMedio</th>\n",
       "      <th>semestre</th>\n",
       "    </tr>\n",
       "  </thead>\n",
       "  <tbody>\n",
       "    <tr>\n",
       "      <th>0</th>\n",
       "      <td>0</td>\n",
       "      <td>2021-12-31</td>\n",
       "      <td>2021</td>\n",
       "      <td>0.494474</td>\n",
       "      <td>2</td>\n",
       "    </tr>\n",
       "    <tr>\n",
       "      <th>1</th>\n",
       "      <td>1</td>\n",
       "      <td>2021-12-30</td>\n",
       "      <td>2021</td>\n",
       "      <td>0.497398</td>\n",
       "      <td>2</td>\n",
       "    </tr>\n",
       "    <tr>\n",
       "      <th>2</th>\n",
       "      <td>2</td>\n",
       "      <td>2021-12-29</td>\n",
       "      <td>2021</td>\n",
       "      <td>0.497839</td>\n",
       "      <td>2</td>\n",
       "    </tr>\n",
       "    <tr>\n",
       "      <th>3</th>\n",
       "      <td>3</td>\n",
       "      <td>2021-12-28</td>\n",
       "      <td>2021</td>\n",
       "      <td>0.497933</td>\n",
       "      <td>2</td>\n",
       "    </tr>\n",
       "    <tr>\n",
       "      <th>4</th>\n",
       "      <td>4</td>\n",
       "      <td>2021-12-27</td>\n",
       "      <td>2021</td>\n",
       "      <td>0.486926</td>\n",
       "      <td>2</td>\n",
       "    </tr>\n",
       "    <tr>\n",
       "      <th>...</th>\n",
       "      <td>...</td>\n",
       "      <td>...</td>\n",
       "      <td>...</td>\n",
       "      <td>...</td>\n",
       "      <td>...</td>\n",
       "    </tr>\n",
       "    <tr>\n",
       "      <th>2836</th>\n",
       "      <td>2836</td>\n",
       "      <td>2011-01-07</td>\n",
       "      <td>2011</td>\n",
       "      <td>0.588632</td>\n",
       "      <td>1</td>\n",
       "    </tr>\n",
       "    <tr>\n",
       "      <th>2837</th>\n",
       "      <td>2837</td>\n",
       "      <td>2011-01-06</td>\n",
       "      <td>2011</td>\n",
       "      <td>0.597941</td>\n",
       "      <td>1</td>\n",
       "    </tr>\n",
       "    <tr>\n",
       "      <th>2838</th>\n",
       "      <td>2838</td>\n",
       "      <td>2011-01-05</td>\n",
       "      <td>2011</td>\n",
       "      <td>0.591966</td>\n",
       "      <td>1</td>\n",
       "    </tr>\n",
       "    <tr>\n",
       "      <th>2839</th>\n",
       "      <td>2839</td>\n",
       "      <td>2011-01-04</td>\n",
       "      <td>2011</td>\n",
       "      <td>0.592249</td>\n",
       "      <td>1</td>\n",
       "    </tr>\n",
       "    <tr>\n",
       "      <th>2840</th>\n",
       "      <td>2840</td>\n",
       "      <td>2011-01-03</td>\n",
       "      <td>2011</td>\n",
       "      <td>0.599639</td>\n",
       "      <td>1</td>\n",
       "    </tr>\n",
       "  </tbody>\n",
       "</table>\n",
       "<p>2841 rows × 5 columns</p>\n",
       "</div>"
      ],
      "text/plain": [
       "      index       Data  year  PrecoMedio  semestre\n",
       "0         0 2021-12-31  2021    0.494474         2\n",
       "1         1 2021-12-30  2021    0.497398         2\n",
       "2         2 2021-12-29  2021    0.497839         2\n",
       "3         3 2021-12-28  2021    0.497933         2\n",
       "4         4 2021-12-27  2021    0.486926         2\n",
       "...     ...        ...   ...         ...       ...\n",
       "2836   2836 2011-01-07  2011    0.588632         1\n",
       "2837   2837 2011-01-06  2011    0.597941         1\n",
       "2838   2838 2011-01-05  2011    0.591966         1\n",
       "2839   2839 2011-01-04  2011    0.592249         1\n",
       "2840   2840 2011-01-03  2011    0.599639         1\n",
       "\n",
       "[2841 rows x 5 columns]"
      ]
     },
     "execution_count": 534,
     "metadata": {},
     "output_type": "execute_result"
    }
   ],
   "source": [
    "\n",
    "dfPetro['PrecoMedio'] = ((dfPetro['Máxima'] + dfPetro['Mínima'])/2)/158.98722\n",
    "dfPetro_d1 = dfPetro.drop(['Último','Abertura', 'Máxima','Mínima','Vol.', 'Var%'], axis=1)\n",
    "dfPetro_d1['semestre'] = np.where(dfPetro_d1['month'] < 7, 1, 2)\n",
    "#dfPetro_d1.insert(2, \"avg_price\", df_gas_d1['avg_price'], allow_duplicates=False)\n",
    "dfPetro_d1 = dfPetro_d1.drop('month', axis=1)\n",
    "\n",
    "\n",
    "#dfPetro_d1 = dfPetro_d1.groupby(by=['year', 'semestre']).mean()\n",
    "\n",
    "#dfPetro_d1 = dfPetro_d1.sort_values(['year', 'semestre'], ascending=False)\n",
    "dfPetro_d1 = dfPetro_d1.reset_index(drop=False)\n",
    "dfPetro_d1\n",
    "# dfPetro_d1.filter(['ANO','semestre','PrecoMedio'])\\\n",
    "#     .groupby(['ANO', 'semestre']).mean()\\\n",
    "#     .sort_values(['ANO', 'semestre'], ascending=True)\\\n",
    "#     .plot()\n"
   ]
  },
  {
   "cell_type": "code",
   "execution_count": 535,
   "metadata": {
    "pycharm": {
     "name": "#%%\n"
    }
   },
   "outputs": [
    {
     "data": {
      "text/html": [
       "<div>\n",
       "<style scoped>\n",
       "    .dataframe tbody tr th:only-of-type {\n",
       "        vertical-align: middle;\n",
       "    }\n",
       "\n",
       "    .dataframe tbody tr th {\n",
       "        vertical-align: top;\n",
       "    }\n",
       "\n",
       "    .dataframe thead th {\n",
       "        text-align: right;\n",
       "    }\n",
       "</style>\n",
       "<table border=\"1\" class=\"dataframe\">\n",
       "  <thead>\n",
       "    <tr style=\"text-align: right;\">\n",
       "      <th></th>\n",
       "      <th>initial_date</th>\n",
       "      <th>avg_price</th>\n",
       "      <th>month</th>\n",
       "      <th>year</th>\n",
       "      <th>semestre</th>\n",
       "      <th>index</th>\n",
       "      <th>Data</th>\n",
       "      <th>PrecoMedio</th>\n",
       "    </tr>\n",
       "  </thead>\n",
       "  <tbody>\n",
       "    <tr>\n",
       "      <th>0</th>\n",
       "      <td>2011-01-02</td>\n",
       "      <td>2.774</td>\n",
       "      <td>1.0</td>\n",
       "      <td>2011</td>\n",
       "      <td>1</td>\n",
       "      <td>2713</td>\n",
       "      <td>2011-06-30</td>\n",
       "      <td>0.704333</td>\n",
       "    </tr>\n",
       "    <tr>\n",
       "      <th>1</th>\n",
       "      <td>2011-01-02</td>\n",
       "      <td>2.774</td>\n",
       "      <td>1.0</td>\n",
       "      <td>2011</td>\n",
       "      <td>1</td>\n",
       "      <td>2714</td>\n",
       "      <td>2011-06-29</td>\n",
       "      <td>0.694301</td>\n",
       "    </tr>\n",
       "    <tr>\n",
       "      <th>2</th>\n",
       "      <td>2011-01-02</td>\n",
       "      <td>2.774</td>\n",
       "      <td>1.0</td>\n",
       "      <td>2011</td>\n",
       "      <td>1</td>\n",
       "      <td>2715</td>\n",
       "      <td>2011-06-28</td>\n",
       "      <td>0.674268</td>\n",
       "    </tr>\n",
       "    <tr>\n",
       "      <th>3</th>\n",
       "      <td>2011-01-02</td>\n",
       "      <td>2.774</td>\n",
       "      <td>1.0</td>\n",
       "      <td>2011</td>\n",
       "      <td>1</td>\n",
       "      <td>2716</td>\n",
       "      <td>2011-06-27</td>\n",
       "      <td>0.657348</td>\n",
       "    </tr>\n",
       "    <tr>\n",
       "      <th>4</th>\n",
       "      <td>2011-01-02</td>\n",
       "      <td>2.774</td>\n",
       "      <td>1.0</td>\n",
       "      <td>2011</td>\n",
       "      <td>1</td>\n",
       "      <td>2717</td>\n",
       "      <td>2011-06-24</td>\n",
       "      <td>0.667727</td>\n",
       "    </tr>\n",
       "    <tr>\n",
       "      <th>...</th>\n",
       "      <td>...</td>\n",
       "      <td>...</td>\n",
       "      <td>...</td>\n",
       "      <td>...</td>\n",
       "      <td>...</td>\n",
       "      <td>...</td>\n",
       "      <td>...</td>\n",
       "      <td>...</td>\n",
       "    </tr>\n",
       "    <tr>\n",
       "      <th>1846198</th>\n",
       "      <td>NaT</td>\n",
       "      <td>NaN</td>\n",
       "      <td>NaN</td>\n",
       "      <td>2021</td>\n",
       "      <td>2</td>\n",
       "      <td>127</td>\n",
       "      <td>2021-07-07</td>\n",
       "      <td>0.467302</td>\n",
       "    </tr>\n",
       "    <tr>\n",
       "      <th>1846199</th>\n",
       "      <td>NaT</td>\n",
       "      <td>NaN</td>\n",
       "      <td>NaN</td>\n",
       "      <td>2021</td>\n",
       "      <td>2</td>\n",
       "      <td>128</td>\n",
       "      <td>2021-07-06</td>\n",
       "      <td>0.477931</td>\n",
       "    </tr>\n",
       "    <tr>\n",
       "      <th>1846200</th>\n",
       "      <td>NaT</td>\n",
       "      <td>NaN</td>\n",
       "      <td>NaN</td>\n",
       "      <td>2021</td>\n",
       "      <td>2</td>\n",
       "      <td>129</td>\n",
       "      <td>2021-07-05</td>\n",
       "      <td>0.481045</td>\n",
       "    </tr>\n",
       "    <tr>\n",
       "      <th>1846201</th>\n",
       "      <td>NaT</td>\n",
       "      <td>NaN</td>\n",
       "      <td>NaN</td>\n",
       "      <td>2021</td>\n",
       "      <td>2</td>\n",
       "      <td>130</td>\n",
       "      <td>2021-07-02</td>\n",
       "      <td>0.476894</td>\n",
       "    </tr>\n",
       "    <tr>\n",
       "      <th>1846202</th>\n",
       "      <td>NaT</td>\n",
       "      <td>NaN</td>\n",
       "      <td>NaN</td>\n",
       "      <td>2021</td>\n",
       "      <td>2</td>\n",
       "      <td>131</td>\n",
       "      <td>2021-07-01</td>\n",
       "      <td>0.475793</td>\n",
       "    </tr>\n",
       "  </tbody>\n",
       "</table>\n",
       "<p>1846203 rows × 8 columns</p>\n",
       "</div>"
      ],
      "text/plain": [
       "        initial_date  avg_price  month  year  semestre  index       Data  \\\n",
       "0         2011-01-02      2.774    1.0  2011         1   2713 2011-06-30   \n",
       "1         2011-01-02      2.774    1.0  2011         1   2714 2011-06-29   \n",
       "2         2011-01-02      2.774    1.0  2011         1   2715 2011-06-28   \n",
       "3         2011-01-02      2.774    1.0  2011         1   2716 2011-06-27   \n",
       "4         2011-01-02      2.774    1.0  2011         1   2717 2011-06-24   \n",
       "...              ...        ...    ...   ...       ...    ...        ...   \n",
       "1846198          NaT        NaN    NaN  2021         2    127 2021-07-07   \n",
       "1846199          NaT        NaN    NaN  2021         2    128 2021-07-06   \n",
       "1846200          NaT        NaN    NaN  2021         2    129 2021-07-05   \n",
       "1846201          NaT        NaN    NaN  2021         2    130 2021-07-02   \n",
       "1846202          NaT        NaN    NaN  2021         2    131 2021-07-01   \n",
       "\n",
       "         PrecoMedio  \n",
       "0          0.704333  \n",
       "1          0.694301  \n",
       "2          0.674268  \n",
       "3          0.657348  \n",
       "4          0.667727  \n",
       "...             ...  \n",
       "1846198    0.467302  \n",
       "1846199    0.477931  \n",
       "1846200    0.481045  \n",
       "1846201    0.476894  \n",
       "1846202    0.475793  \n",
       "\n",
       "[1846203 rows x 8 columns]"
      ]
     },
     "execution_count": 535,
     "metadata": {},
     "output_type": "execute_result"
    }
   ],
   "source": [
    "result"
   ]
  },
  {
   "cell_type": "code",
   "execution_count": 660,
   "metadata": {
    "pycharm": {
     "name": "#%%\n"
    }
   },
   "outputs": [
    {
     "data": {
      "text/plain": [
       "[(0.0, 21.0), Text(0.5, 0, 'Total Revenue'), Text(0, 0.5, 'Company')]"
      ]
     },
     "execution_count": 660,
     "metadata": {},
     "output_type": "execute_result"
    },
    {
     "data": {
      "image/png": "[encoded data removed]",
      "text/plain": [
       "<Figure size 1440x720 with 1 Axes>"
      ]
     },
     "metadata": {
      "needs_background": "light"
     },
     "output_type": "display_data"
    }
   ],
   "source": [
    "from matplotlib.ticker import (MultipleLocator, FormatStrFormatter,\n",
    "                               AutoMinorLocator)# frames = [df_gas_d1, dfPetro_d1]\n",
    "#result = pd.concat([df_gas_d1, dfPetro_d1], axis=1, join='inner')\n",
    "result = pd.merge(df_gas_d1, dfPetro_d1, how = 'outer', on = ['year', 'semestre'])\n",
    "#result = result.sort_values(['year', 'semestre'], ascending=False)\n",
    "#fig, ax = plt.subplots(figsize=(20,10))\n",
    "#plt.suptitle(\"testename\")\n",
    "ax = result.filter(['year','semestre','PrecoMedio', 'avg_price'])\\\n",
    "    .groupby(['year', 'semestre']).mean()\\\n",
    "    .sort_values(['year', 'semestre'], ascending=True)\\\n",
    "    .plot(figsize=(20,10), fontsize=20, grid=True, colormap = 'Dark2')\n",
    "\n",
    "ax.set_title(\"testename\", fontsize=20)\n",
    "ax.legend(bbox_to_anchor = (1.01, 1), loc='upper left', borderaxespad=0.)\n",
    "\n",
    "#ax.xaxis.set_minor_locator(AutoMinorLocator())\n",
    "ax.xaxis.set_minor_locator(MultipleLocator())\n",
    "ax.xaxis.set_major_locator(MultipleLocator())\n",
    "ax.tick_params(which='both', width=2, color='b')\n",
    "ax.tick_params(which='major', length=4, color='g')\n",
    "ax.tick_params(which='minor', length=6, color='r')\n",
    "\n",
    "labels = ax.get_xticklabels()\n",
    "plt.setp(labels, rotation=45, horizontalalignment='right')\n",
    "ax.set(xlim=[0, 21], xlabel='Total Revenue', ylabel='Company')\n",
    "#ax.set_xticks([0, 2, 5, 10, 15, 20, 25])\n",
    "\n",
    "#labels[1] = 0\n",
    "#ax.set_xticklabels(labels)"
   ]
  },
  {
   "cell_type": "code",
   "execution_count": 665,
   "metadata": {
    "pycharm": {
     "name": "#%%\n"
    }
   },
   "outputs": [
    {
     "name": "stdout",
     "output_type": "stream",
     "text": [
      "<class 'str'>\n"
     ]
    },
    {
     "name": "stderr",
     "output_type": "stream",
     "text": [
      "C:\\Users\\chris\\AppData\\Local\\Temp\\ipykernel_2072\\1622811777.py:8: MatplotlibDeprecationWarning: \n",
      "The numCols attribute was deprecated in Matplotlib 3.4 and will be removed two minor releases later. Use get_gridspec().ncols instead.\n",
      "  ax.numCols()\n"
     ]
    },
    {
     "ename": "TypeError",
     "evalue": "'int' object is not callable",
     "output_type": "error",
     "traceback": [
      "\u001B[1;31m---------------------------------------------------------------------------\u001B[0m",
      "\u001B[1;31mTypeError\u001B[0m                                 Traceback (most recent call last)",
      "\u001B[1;32mc:\\Users\\chris\\Code\\Faculdade\\Gasolina-Petroleo-Dataset\\jupiter\\project.ipynb Cell 27'\u001B[0m in \u001B[0;36m<cell line: 8>\u001B[1;34m()\u001B[0m\n\u001B[0;32m      <a href='vscode-notebook-cell:/c%3A/Users/chris/Code/Faculdade/Gasolina-Petroleo-Dataset/jupiter/project.ipynb#ch0000030?line=4'>5</a>\u001B[0m \u001B[39mprint\u001B[39m(\u001B[39mtype\u001B[39m(labels[\u001B[39m0\u001B[39m]))\n\u001B[0;32m      <a href='vscode-notebook-cell:/c%3A/Users/chris/Code/Faculdade/Gasolina-Petroleo-Dataset/jupiter/project.ipynb#ch0000030?line=6'>7</a>\u001B[0m \u001B[39m# labels\u001B[39;00m\n\u001B[1;32m----> <a href='vscode-notebook-cell:/c%3A/Users/chris/Code/Faculdade/Gasolina-Petroleo-Dataset/jupiter/project.ipynb#ch0000030?line=7'>8</a>\u001B[0m ax\u001B[39m.\u001B[39;49mnumCols()\n",
      "\u001B[1;31mTypeError\u001B[0m: 'int' object is not callable"
     ]
    }
   ],
   "source": [
    "\n",
    "# for i in result['year']:\n",
    "#     print(i)\n",
    "    \n",
    "labels = [item.get_text() for item in ax.get_xticklabels()]\n",
    "print(type(labels[0]))\n",
    "\n",
    "# labels\n",
    "ax.get"
   ]
  }
 ],
 "metadata": {
  "interpreter": {
   "hash": "a170ce8ac98000004ac823d4c2746510311ea0f239e9a75bb2f83eec9b87d659"
  },
  "kernelspec": {
   "display_name": "Python 3.10.3 ('venv': venv)",
   "language": "python",
   "name": "python3"
  },
  "language_info": {
   "codemirror_mode": {
    "name": "ipython",
    "version": 3
   },
   "file_extension": ".py",
   "mimetype": "text/x-python",
   "name": "python",
   "nbconvert_exporter": "python",
   "pygments_lexer": "ipython3",
   "version": "3.10.3"
  },
  "metadata": {
   "interpreter": {
    "hash": "63fd5069d213b44bf678585dea6b12cceca9941eaf7f819626cde1f2670de90d"
   }
  },
  "orig_nbformat": 2
 },
 "nbformat": 4,
 "nbformat_minor": 2
}
{
 "cells": [
  {
   "cell_type": "code",
   "execution_count": null,
   "metadata": {},
   "outputs": [],
   "source": [
    "import pandas as pd\n",
    "import matplotlib.pyplot as plt"
   ]
  },
  {
   "cell_type": "code",
   "execution_count": null,
   "metadata": {},
   "outputs": [],
   "source": [
    "original_gas_prices_df = pd.read_csv(r'..\\\\DataSet\\\\2004-2021.tsv', sep='\\t')\n",
    "original_gas_prices_df['year'] = pd.DatetimeIndex(original_gas_prices_df['DATA INICIAL']).year\n",
    "df_mask = original_gas_prices_df['year'] < 2020\n",
    "original_gas_prices_df = original_gas_prices_df[df_mask]\n",
    "\n",
    "# df_mask = original_gas_prices_df['year'] > 2010\n",
    "# original_gas_prices_df = original_gas_prices_df[df_mask]\n",
    "# original_gas_prices_df\n",
    "# original_gas_prices_df.sample(n=4)"
   ]
  },
  {
   "cell_type": "code",
   "execution_count": null,
   "metadata": {},
   "outputs": [],
   "source": [
    "plt.rcParams['figure.figsize'] = (11,7)\n",
    "plt.style.use('seaborn')"
   ]
  },
  {
   "cell_type": "code",
   "execution_count": null,
   "metadata": {},
   "outputs": [],
   "source": [
    "original_gas_prices_df['DATA FINAL'] = pd.to_datetime(original_gas_prices_df['DATA FINAL']) # Converte para período, desprezando dia do mês\n",
    "\n",
    "# Algumas colunas possuem '-' como valor, causando erro ao converter, por isso errors='coerse' seta como NaN\n",
    "original_gas_prices_df['PREÇO MÉDIO DISTRIBUIÇÃO'] = pd.to_numeric(original_gas_prices_df['PREÇO MÉDIO DISTRIBUIÇÃO'], errors='coerce')\n",
    "original_gas_prices_df['PREÇO MÉDIO REVENDA'] = pd.to_numeric(original_gas_prices_df['PREÇO MÉDIO REVENDA'], errors='coerce')\n",
    "\n",
    "# Seta Data final da pesquisa como indíce\n",
    "original_gas_prices_df.set_index(['DATA FINAL'], inplace=True)\n",
    "# original_gas_prices_df.head()"
   ]
  },
  {
   "cell_type": "code",
   "execution_count": null,
   "metadata": {},
   "outputs": [],
   "source": [
    "used_columns = [\n",
    "    'DATA',\n",
    "    'PRODUTO',\n",
    "    'ESTADO',\n",
    "    'REGIÃO',\n",
    "    'PREÇO MÉDIO DISTRIBUIÇÃO',\n",
    "    'PREÇO MÉDIO REVENDA',\n",
    "]\n",
    "\n",
    "used_products = [\n",
    "    'ETANOL HIDRATADO',\n",
    "    'GASOLINA COMUM',\n",
    "    'ÓLEO DIESEL'\n",
    "]\n",
    "\n",
    "monthly_df = original_gas_prices_df.groupby(['PRODUTO', 'ESTADO', 'REGIÃO']).resample('M').mean().reset_index()\n",
    "monthly_df['DATA'] = monthly_df['DATA FINAL'].dt.to_period('M')\n",
    "\n",
    "gas_prices_df = monthly_df[used_columns]\n",
    "gas_prices_df = gas_prices_df[gas_prices_df.PRODUTO.isin(used_products)]\n",
    "gas_prices_df = gas_prices_df.dropna(how='any')\n",
    "\n",
    "gas_prices_df['VARIAÇÃO DIST X REV'] = gas_prices_df['PREÇO MÉDIO REVENDA'] - gas_prices_df['PREÇO MÉDIO DISTRIBUIÇÃO']\n",
    "gas_prices_df['VARIAÇÃO PERCENTUAL DIST X REV'] = gas_prices_df['VARIAÇÃO DIST X REV'] /  gas_prices_df['PREÇO MÉDIO DISTRIBUIÇÃO'] * 100\n",
    "\n",
    "gas_prices_df.set_index(['DATA', 'PRODUTO', 'ESTADO', 'REGIÃO'], inplace=True)\n",
    "# gas_prices_df.sample(n=5)"
   ]
  },
  {
   "cell_type": "code",
   "execution_count": null,
   "metadata": {},
   "outputs": [],
   "source": [
    "original_inflation_rate_df = pd.read_csv('..\\\\DataSet\\\\inflation-rate-brazil.csv')\n",
    "# original_inflation_rate_df['date'] = pd.to_datetime(original_inflation_rate_df['date']).dt.to_period('M') \n",
    "# inflation_rate_df = original_inflation_rate_df.set_index('date')['2004':'2019']\n",
    "# inflation_rate_df.to_csv('outputCSV.csv')\n",
    "\n",
    "# edit_inflation_rate_df = inflation_rate_df.copy()\n",
    "# edit_inflation_rate_df = edit_inflation_rate_df.reset_index(drop=False)\n",
    "# edit_inflation_rate_df['date'] = edit_inflation_rate_df['date'].astype('datetime64[ns]')\n",
    "\n",
    "# df = pd.DataFrame(pd.date_range('2019-07-01', freq='1d', periods=1030))\n",
    "# df['day'] = pd.DatetimeIndex(df[0]).day\n",
    "# df_mask = df['day'] == 1\n",
    "# df = df[df_mask]\n",
    "# df = df.reset_index(drop=True)\n",
    "\n",
    "# ipca_df = pd.read_excel(r\"C:\\Users\\chris\\OneDrive\\Área de Trabalho\\ipca_SerieHist\\ipca_202204SerieHist.xls\")\n",
    "# ipca_df = ipca_df[378:415]\n",
    "# ipca_df = ipca_df[ipca_df['Unnamed: 7'].notna()]\n",
    "\n",
    "# ipca_df = ipca_df.drop(['Unnamed: 0','Unnamed: 1','Unnamed: 3','Unnamed: 4','Unnamed: 5','Unnamed: 6'], axis=1)\n",
    "# # ipca_df['Date'] = df[0]\n",
    "# #ipca_df = pd.merge(ipca_df, df, how='outer', on=['year', 'semestre'])\n",
    "# ipca_df = ipca_df.reset_index(drop=True)\n",
    "# ipca_df.insert(0, \"Data\", df[0], True)\n",
    "# ipca_df.insert(2, \"2\", 0, True)\n",
    "# ipca_df.insert(3, \"3\", 0, True)\n",
    "\n",
    "# for index, row in ipca_df.iterrows():\n",
    "#     edit_inflation_rate_df=edit_inflation_rate_df.append({'date' : row['Data'] , 'absolute_index' : row['Unnamed: 2'], 'monthly' : 0, 'semiannual_accumulation' : 0, 'annual_accumulation' : row['Unnamed: 7']} , ignore_index=True)\n",
    "# edit_inflation_rate_df = edit_inflation_rate_df.drop_duplicates(subset='date', keep='first')\n",
    "# inflation_rate_df = edit_inflation_rate_df.set_index('date')['2004':'2021-04']\n",
    "\n",
    "original_inflation_rate_df['date'] = pd.to_datetime(original_inflation_rate_df['date']).dt.to_period('M') \n",
    "inflation_rate_df = original_inflation_rate_df.set_index('date')['2004':'2019']\n",
    "# inflation_rate_df.sample(n=5)\n",
    "\n"
   ]
  },
  {
   "cell_type": "code",
   "execution_count": null,
   "metadata": {},
   "outputs": [],
   "source": [
    "# Mesclando inflação + preços\n",
    "main_df = gas_prices_df.copy()\n",
    "main_df.reset_index(inplace=True)\n",
    "main_df.set_index('DATA', inplace=True)\n",
    "main_df['INFLAÇÃO ANUAL'] = inflation_rate_df['annual_accumulation']  # INFLAÇÃO ANUAL ACUMULADA NOS ÚLTIMOS 12 MESES\n",
    "main_df['INFLAÇÃO ABSOLUTA'] = inflation_rate_df['absolute_index']  # INFLAÇÃO ANUAL ACUMULADA NOS ÚLTIMOS 12 MESES\n",
    "\n",
    "main_df = main_df.to_timestamp()\n",
    "main_df = main_df['2006':]\n",
    "\n",
    "# main_df.sample(5)"
   ]
  },
  {
   "cell_type": "code",
   "execution_count": null,
   "metadata": {},
   "outputs": [],
   "source": [
    "def plot_prices_correlation(produto):\n",
    "    grp = main_df[main_df.PRODUTO == produto].groupby(['DATA']).mean()\n",
    "    fig, ax = plt.subplots()\n",
    "\n",
    "    grp.plot(y='PREÇO MÉDIO REVENDA', label='Revenda', ax=ax)\n",
    "    grp.plot(y='PREÇO MÉDIO DISTRIBUIÇÃO', label='Distribuição', ax=ax)\n",
    "    fig.suptitle('Preços de Distribuição e Revenda - ' + produto)\n",
    "    ax.set_xlabel('Data')\n",
    "    ax.set_ylabel('Preço - R$/l')\n",
    "    ax.grid(True)\n",
    "#     ax.annotate('Teste', xy= ('2018-05-21'), xycoords='data',\n",
    "#              xytext=(-30, 0))\n",
    "    \n",
    "    # plot variação entre distribuição e revenda\n",
    "    ax_var = ax.twinx()\n",
    "\n",
    "    grp.plot(y='VARIAÇÃO PERCENTUAL DIST X REV', label='Variação - Distribuição', ax=ax_var, c='#c44e52')\n",
    "    ax_var.set_ylabel('% - Variação entre Distribuição e Revenda', color='#c44e52')\n",
    "    ax_var.get_legend().remove()\n",
    "    ax_var.grid(False)\n",
    "    plt.show()\n",
    "\n",
    "# plot_prices_correlation('GASOLINA COMUM')"
   ]
  },
  {
   "cell_type": "code",
   "execution_count": null,
   "metadata": {},
   "outputs": [],
   "source": [
    "\n",
    "\n",
    "def plot_inflation_correlation(produto):\n",
    "    annual_price_change_df = main_df[main_df.PRODUTO == produto].groupby(['DATA']).mean()\n",
    "    annual_price_change_df['VARIAÇÃO'] = annual_price_change_df['PREÇO MÉDIO REVENDA'].pct_change()\n",
    "    annual_price_change_df['VARIAÇÃO 12 MESES'] = annual_price_change_df['VARIAÇÃO'].rolling(min_periods=12, window=12).sum() * 100\n",
    "    annual_price_change_df.tail()\n",
    "    \n",
    "    # ploting\n",
    "    fig, ax_gas = plt.subplots()\n",
    "    annual_price_change_df.plot(y='VARIAÇÃO 12 MESES', c='#4c72b0', ax=ax_gas)\n",
    "    fig.suptitle('Variação da Inflação e Preço Acumulado - ' + produto)\n",
    "    ax_gas.set_xlabel('Data de pesquisa')\n",
    "    ax_gas.set_ylabel('% - Variação Acumulativa - 12 meses', color='#4c72b0')\n",
    "    ax_gas.get_legend().remove()\n",
    "    ax_gas.grid(True)\n",
    "    \n",
    "    # plot_inflation\n",
    "    ax_inflation = ax_gas.twinx()\n",
    "    \n",
    "    annual_price_change_df.plot(y='INFLAÇÃO ANUAL', ax=ax_inflation, c='#55a868')\n",
    "    ax_inflation.set_ylabel('% - Inflação Acumulada - 12 meses', color='#55a868')\n",
    "    ax_inflation.get_legend().remove()\n",
    "    ax_inflation.grid(False)\n",
    "    plt.show()\n",
    "\n",
    "# plot_inflation_correlation('GASOLINA COMUM')\n",
    "\n"
   ]
  },
  {
   "cell_type": "code",
   "execution_count": null,
   "metadata": {},
   "outputs": [],
   "source": [
    "def plot_avg_region(produto):\n",
    "    avg_per_region_df = main_df['2009':].groupby(['PRODUTO', 'REGIÃO', 'DATA']).mean()\n",
    "    avg_per_region_for_product_df = avg_per_region_df.iloc[avg_per_region_df.index.get_level_values('PRODUTO') == produto]\n",
    "    \n",
    "    fig, ax = plt.subplots()\n",
    "    fig.suptitle('Preço por Região - ' + produto)\n",
    "    \n",
    "    for key, grp in avg_per_region_for_product_df.groupby('REGIÃO'):\n",
    "        grp_as_timeseries = grp.reset_index().set_index('DATA')\n",
    "        grp_as_timeseries.plot(y='PREÇO MÉDIO REVENDA', label=key, ax=ax)\n",
    "\n",
    "        ax.set_xlabel('Data')\n",
    "        ax.set_ylabel('Preço - R$/l')\n",
    "\n",
    "    plt.grid(True)\n",
    "    plt.show()\n",
    "\n",
    "# plot_avg_region('GASOLINA COMUM')"
   ]
  },
  {
   "cell_type": "code",
   "execution_count": null,
   "metadata": {},
   "outputs": [],
   "source": [
    "from sklearn.model_selection import train_test_split\n",
    "from sklearn import preprocessing\n",
    "from sklearn.linear_model import LinearRegression"
   ]
  },
  {
   "cell_type": "code",
   "execution_count": null,
   "metadata": {},
   "outputs": [],
   "source": [
    "models = {}\n",
    "def regression_for_product(produto):\n",
    "    # Cria Daframe necessário para regressão\n",
    "    reg_df = main_df['2009':].groupby(['PRODUTO', 'DATA']).mean()\n",
    "    reg_df = reg_df.iloc[reg_df.index.get_level_values('PRODUTO') == produto].groupby('DATA').mean()[['PREÇO MÉDIO REVENDA', 'INFLAÇÃO ABSOLUTA']]\n",
    "\n",
    "    # Separa eixos da regressão\n",
    "    \n",
    "    reg_df = reg_df.dropna()\n",
    "    #print(reg_df)\n",
    "    X = X = reg_df[['INFLAÇÃO ABSOLUTA']]\n",
    "    Y = reg_df['PREÇO MÉDIO REVENDA'].values\n",
    "\n",
    "    # Divide dados entre treinamento e teste\n",
    "    x_train, x_test, y_train, y_test = train_test_split(X,Y,test_size=0.20)\n",
    "\n",
    "    # Cria model de regressão e faz o treinamento\n",
    "    lr=LinearRegression()\n",
    "    lr.fit(x_train,y_train)\n",
    "    models[produto] = lr\n",
    "    predicted_values = []\n",
    "    for i in range(0, len(y_test)):\n",
    "        predicted_values.append(lr.predict(x_test.iloc[[i],:])[0])\n",
    "\n",
    "    predicted_df = pd.DataFrame({'Inflação Absoluta':x_test['INFLAÇÃO ABSOLUTA'].values , 'Valor Real':y_test, 'Valor Predito':predicted_values})\n",
    "    fig, ax = plt.subplots()\n",
    "    fig.suptitle('Regressão - ' + produto)\n",
    "    ax.set_ylabel('Preço Revenda - R$/l')\n",
    "    predicted_df.sort_values(by=['Inflação Absoluta']).set_index('Inflação Absoluta').plot(ax=ax)\n",
    "    #plt.show()"
   ]
  },
  {
   "cell_type": "code",
   "execution_count": null,
   "metadata": {},
   "outputs": [],
   "source": [
    "regression_for_product('GASOLINA COMUM')"
   ]
  },
  {
   "cell_type": "code",
   "execution_count": null,
   "metadata": {},
   "outputs": [],
   "source": [
    "def predict_price(produto):\n",
    "    rates = {}\n",
    "    rates['2019-08-01'] = inflation_rate_df['absolute_index'].iloc[-1]\n",
    "    for i in range(2020, 2029):\n",
    "        last_year = str(i - 1)+'-08-01'\n",
    "        curr_year = str(i)+'-08-01'\n",
    "        rates[curr_year]  = (rates[last_year] * 0.04) + rates[last_year]\n",
    "\n",
    "    rates_df = pd.DataFrame(list(rates.items()), columns = ['DATA', 'INFLAÇÂO ABSOLUTA'])\n",
    "\n",
    "    rates_df['DATA'] = pd.to_datetime(rates_df['DATA'])\n",
    "    rates_df.set_index('DATA', inplace=True)\n",
    "    predictions = {}\n",
    "\n",
    "    rates_df['PREVISÃO'] = models[produto].predict(rates_df)\n",
    "\n",
    "    return rates_df"
   ]
  },
  {
   "cell_type": "code",
   "execution_count": null,
   "metadata": {},
   "outputs": [],
   "source": [
    "predict_price('GASOLINA COMUM')"
   ]
  }
 ],
 "metadata": {
  "interpreter": {
   "hash": "a170ce8ac98000004ac823d4c2746510311ea0f239e9a75bb2f83eec9b87d659"
  },
  "kernelspec": {
   "display_name": "Python 3.10.3 ('venv': venv)",
   "language": "python",
   "name": "python3"
  },
  "language_info": {
   "codemirror_mode": {
    "name": "ipython",
    "version": 3
   },
   "file_extension": ".py",
   "mimetype": "text/x-python",
   "name": "python",
   "nbconvert_exporter": "python",
   "pygments_lexer": "ipython3",
   "version": "3.10.3"
  }
 },
 "nbformat": 4,
 "nbformat_minor": 0
}

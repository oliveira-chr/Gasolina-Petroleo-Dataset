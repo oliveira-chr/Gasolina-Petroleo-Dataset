{
 "cells": [
  {
   "cell_type": "code",
   "execution_count": 455,
   "outputs": [
    {
     "name": "stderr",
     "output_type": "stream",
     "text": [
      "C:\\Users\\lucas\\AppData\\Local\\Temp\\ipykernel_29296\\4045272485.py:13: SettingWithCopyWarning: \n",
      "A value is trying to be set on a copy of a slice from a DataFrame.\n",
      "Try using .loc[row_indexer,col_indexer] = value instead\n",
      "\n",
      "See the caveats in the documentation: https://pandas.pydata.org/pandas-docs/stable/user_guide/indexing.html#returning-a-view-versus-a-copy\n",
      "  dt_br_dolar_price['date'] = pd.to_datetime(dt_dolar_price['Time Serie']).dt.to_period('M')\n"
     ]
    },
    {
     "data": {
      "text/plain": "         brazil_usd\ndate               \n2019-05      3.9658\n2012-09      2.0330\n2018-11      3.8205\n2019-06      3.8740\n2015-04      2.9393",
      "text/html": "<div>\n<style scoped>\n    .dataframe tbody tr th:only-of-type {\n        vertical-align: middle;\n    }\n\n    .dataframe tbody tr th {\n        vertical-align: top;\n    }\n\n    .dataframe thead th {\n        text-align: right;\n    }\n</style>\n<table border=\"1\" class=\"dataframe\">\n  <thead>\n    <tr style=\"text-align: right;\">\n      <th></th>\n      <th>brazil_usd</th>\n    </tr>\n    <tr>\n      <th>date</th>\n      <th></th>\n    </tr>\n  </thead>\n  <tbody>\n    <tr>\n      <th>2019-05</th>\n      <td>3.9658</td>\n    </tr>\n    <tr>\n      <th>2012-09</th>\n      <td>2.0330</td>\n    </tr>\n    <tr>\n      <th>2018-11</th>\n      <td>3.8205</td>\n    </tr>\n    <tr>\n      <th>2019-06</th>\n      <td>3.8740</td>\n    </tr>\n    <tr>\n      <th>2015-04</th>\n      <td>2.9393</td>\n    </tr>\n  </tbody>\n</table>\n</div>"
     },
     "execution_count": 455,
     "metadata": {},
     "output_type": "execute_result"
    }
   ],
   "source": [
    "import pandas as pd\n",
    "import numpy as np\n",
    "import matplotlib.pyplot as plt\n",
    "\n",
    "plt.rcParams['figure.figsize'] = (11,7)\n",
    "plt.style.use('seaborn')\n",
    "\n",
    "dt_dolar_price = pd.read_csv('../DataSet/Foreign_Exchange_Rates.csv')\n",
    "# dt_dolar_price.info() TODO\n",
    "\n",
    "dt_br_dolar_price = dt_dolar_price[['BRAZIL - REAL/US$']]\n",
    "\n",
    "dt_br_dolar_price['date'] = pd.to_datetime(dt_dolar_price['Time Serie']).dt.to_period('M')\n",
    "dt_br_dolar_price = dt_br_dolar_price.set_index('date')['2011':'2019']\n",
    "\n",
    "# dt_br_dolar_price['Time Serie'] = pd.to_datetime(dt_br_dolar_price['Time Serie'], format='%Y-%m-%d')\n",
    "# dt_br_dolar_price['month'] = pd.DatetimeIndex(dt_br_dolar_price['Time Serie']).month\n",
    "# dt_br_dolar_price['year'] = pd.DatetimeIndex(dt_br_dolar_price['Time Serie']).year\n",
    "dt_br_dolar_price.rename(columns= {'BRAZIL - REAL/US$': 'brazil_usd'}, inplace=True)\n",
    "\n",
    "dt_br_dolar_price = dt_br_dolar_price.replace('ND', np.NaN)\n",
    "\n",
    "dt_br_dolar_price.dropna(subset = [\"brazil_usd\"], inplace=True)\n",
    "\n",
    "dt_br_dolar_price[\"brazil_usd\"] = dt_br_dolar_price.brazil_usd.astype(float)\n",
    "\n",
    "# dt_br_dolar_price = dt_br_dolar_price.groupby(by=['year', 'month']).mean()\n",
    "# dt_br_dolar_price.plot()\n",
    "dt_br_dolar_price.sample(5)\n",
    "\n",
    "\n",
    "\n"
   ],
   "metadata": {
    "collapsed": false,
    "pycharm": {
     "name": "#%%\n"
    }
   }
  },
  {
   "cell_type": "code",
   "execution_count": 456,
   "outputs": [],
   "source": [
    "original_gas_price_dt = pd.read_csv (r'..\\\\DataSet/2004-2021.tsv', sep = '\\t')\n",
    "is_gas = original_gas_price_dt['PRODUTO']==\"GASOLINA COMUM\"\n",
    "df_gas = original_gas_price_dt[is_gas]"
   ],
   "metadata": {
    "collapsed": false,
    "pycharm": {
     "name": "#%%\n"
    }
   }
  },
  {
   "cell_type": "code",
   "execution_count": 457,
   "outputs": [
    {
     "name": "stderr",
     "output_type": "stream",
     "text": [
      "C:\\Users\\lucas\\AppData\\Local\\Temp\\ipykernel_29296\\3356634510.py:1: SettingWithCopyWarning: \n",
      "A value is trying to be set on a copy of a slice from a DataFrame.\n",
      "Try using .loc[row_indexer,col_indexer] = value instead\n",
      "\n",
      "See the caveats in the documentation: https://pandas.pydata.org/pandas-docs/stable/user_guide/indexing.html#returning-a-view-versus-a-copy\n",
      "  df_gas['DATA FINAL'] = pd.to_datetime(df_gas['DATA FINAL'])\n",
      "C:\\Users\\lucas\\AppData\\Local\\Temp\\ipykernel_29296\\3356634510.py:3: SettingWithCopyWarning: \n",
      "A value is trying to be set on a copy of a slice from a DataFrame.\n",
      "Try using .loc[row_indexer,col_indexer] = value instead\n",
      "\n",
      "See the caveats in the documentation: https://pandas.pydata.org/pandas-docs/stable/user_guide/indexing.html#returning-a-view-versus-a-copy\n",
      "  df_gas['PREÇO MÉDIO REVENDA'] = pd.to_numeric(df_gas['PREÇO MÉDIO REVENDA'], errors='coerce')\n"
     ]
    }
   ],
   "source": [
    "df_gas['DATA FINAL'] = pd.to_datetime(df_gas['DATA FINAL'])\n",
    "\n",
    "df_gas['PREÇO MÉDIO REVENDA'] = pd.to_numeric(df_gas['PREÇO MÉDIO REVENDA'], errors='coerce')\n",
    "\n",
    "df_gas.set_index(['DATA FINAL'], inplace=True)"
   ],
   "metadata": {
    "collapsed": false,
    "pycharm": {
     "name": "#%%\n"
    }
   }
  },
  {
   "cell_type": "code",
   "execution_count": 458,
   "outputs": [
    {
     "data": {
      "text/plain": "               REGIÃO  PREÇO MÉDIO REVENDA\nDATA                                      \n2010-09      NORDESTE             2.603722\n2011-07       SUDESTE             2.809500\n2009-10  CENTRO OESTE             2.657800\n2012-11           SUL             2.742250\n2017-09           SUL             3.864400",
      "text/html": "<div>\n<style scoped>\n    .dataframe tbody tr th:only-of-type {\n        vertical-align: middle;\n    }\n\n    .dataframe tbody tr th {\n        vertical-align: top;\n    }\n\n    .dataframe thead th {\n        text-align: right;\n    }\n</style>\n<table border=\"1\" class=\"dataframe\">\n  <thead>\n    <tr style=\"text-align: right;\">\n      <th></th>\n      <th>REGIÃO</th>\n      <th>PREÇO MÉDIO REVENDA</th>\n    </tr>\n    <tr>\n      <th>DATA</th>\n      <th></th>\n      <th></th>\n    </tr>\n  </thead>\n  <tbody>\n    <tr>\n      <th>2010-09</th>\n      <td>NORDESTE</td>\n      <td>2.603722</td>\n    </tr>\n    <tr>\n      <th>2011-07</th>\n      <td>SUDESTE</td>\n      <td>2.809500</td>\n    </tr>\n    <tr>\n      <th>2009-10</th>\n      <td>CENTRO OESTE</td>\n      <td>2.657800</td>\n    </tr>\n    <tr>\n      <th>2012-11</th>\n      <td>SUL</td>\n      <td>2.742250</td>\n    </tr>\n    <tr>\n      <th>2017-09</th>\n      <td>SUL</td>\n      <td>3.864400</td>\n    </tr>\n  </tbody>\n</table>\n</div>"
     },
     "execution_count": 458,
     "metadata": {},
     "output_type": "execute_result"
    }
   ],
   "source": [
    "used_columns = [\n",
    "    'DATA',\n",
    "    'REGIÃO',\n",
    "    'PREÇO MÉDIO REVENDA',\n",
    "]\n",
    "\n",
    "monthly_df = df_gas.groupby(['REGIÃO']).resample('M').mean().reset_index()\n",
    "monthly_df['DATA'] = monthly_df['DATA FINAL'].dt.to_period('M')\n",
    "\n",
    "gas_prices_df = monthly_df[used_columns]\n",
    "gas_prices_df = gas_prices_df.dropna(how='any')\n",
    "\n",
    "gas_prices_df.set_index(['DATA'], inplace=True)\n",
    "gas_prices_df.sample(n=5)"
   ],
   "metadata": {
    "collapsed": false,
    "pycharm": {
     "name": "#%%\n"
    }
   }
  },
  {
   "cell_type": "code",
   "execution_count": 459,
   "outputs": [
    {
     "data": {
      "text/plain": "               REGIÃO  PREÇO MÉDIO REVENDA\nDATA                                      \n2004-05  CENTRO OESTE             2.131500\n2004-06  CENTRO OESTE             2.174625\n2004-07  CENTRO OESTE             2.227550\n2004-08  CENTRO OESTE             2.278875\n2004-09  CENTRO OESTE             2.292500\n...               ...                  ...\n2021-01           SUL             4.515600\n2021-02           SUL             4.845167\n2021-03           SUL             5.411750\n2021-04           SUL             5.290333\n2021-05           SUL             5.381000\n\n[1020 rows x 2 columns]",
      "text/html": "<div>\n<style scoped>\n    .dataframe tbody tr th:only-of-type {\n        vertical-align: middle;\n    }\n\n    .dataframe tbody tr th {\n        vertical-align: top;\n    }\n\n    .dataframe thead th {\n        text-align: right;\n    }\n</style>\n<table border=\"1\" class=\"dataframe\">\n  <thead>\n    <tr style=\"text-align: right;\">\n      <th></th>\n      <th>REGIÃO</th>\n      <th>PREÇO MÉDIO REVENDA</th>\n    </tr>\n    <tr>\n      <th>DATA</th>\n      <th></th>\n      <th></th>\n    </tr>\n  </thead>\n  <tbody>\n    <tr>\n      <th>2004-05</th>\n      <td>CENTRO OESTE</td>\n      <td>2.131500</td>\n    </tr>\n    <tr>\n      <th>2004-06</th>\n      <td>CENTRO OESTE</td>\n      <td>2.174625</td>\n    </tr>\n    <tr>\n      <th>2004-07</th>\n      <td>CENTRO OESTE</td>\n      <td>2.227550</td>\n    </tr>\n    <tr>\n      <th>2004-08</th>\n      <td>CENTRO OESTE</td>\n      <td>2.278875</td>\n    </tr>\n    <tr>\n      <th>2004-09</th>\n      <td>CENTRO OESTE</td>\n      <td>2.292500</td>\n    </tr>\n    <tr>\n      <th>...</th>\n      <td>...</td>\n      <td>...</td>\n    </tr>\n    <tr>\n      <th>2021-01</th>\n      <td>SUL</td>\n      <td>4.515600</td>\n    </tr>\n    <tr>\n      <th>2021-02</th>\n      <td>SUL</td>\n      <td>4.845167</td>\n    </tr>\n    <tr>\n      <th>2021-03</th>\n      <td>SUL</td>\n      <td>5.411750</td>\n    </tr>\n    <tr>\n      <th>2021-04</th>\n      <td>SUL</td>\n      <td>5.290333</td>\n    </tr>\n    <tr>\n      <th>2021-05</th>\n      <td>SUL</td>\n      <td>5.381000</td>\n    </tr>\n  </tbody>\n</table>\n<p>1020 rows × 2 columns</p>\n</div>"
     },
     "execution_count": 459,
     "metadata": {},
     "output_type": "execute_result"
    }
   ],
   "source": [
    "dolar_gas_price_dt = gas_prices_df.copy()\n",
    "dolar_gas_price_dt.reset_index(inplace=True)\n",
    "dolar_gas_price_dt.set_index('DATA', inplace=True)\n",
    "dolar_gas_price_dt"
   ],
   "metadata": {
    "collapsed": false,
    "pycharm": {
     "name": "#%%\n"
    }
   }
  },
  {
   "cell_type": "code",
   "execution_count": 460,
   "outputs": [
    {
     "data": {
      "text/plain": "<AxesSubplot:xlabel='DATA'>"
     },
     "execution_count": 460,
     "metadata": {},
     "output_type": "execute_result"
    },
    {
     "data": {
      "text/plain": "<Figure size 576x396 with 1 Axes>",
      "image/png": "[encoded data removed]"
     },
     "metadata": {},
     "output_type": "display_data"
    }
   ],
   "source": [
    "region_centro_oeste = dolar_gas_price_dt['REGIÃO']==\"CENTRO OESTE\"\n",
    "dolar_gas_price_dt = dolar_gas_price_dt[region_centro_oeste]\n",
    "\n",
    "dolar_gas_price_dt.reset_index(inplace=True)\n",
    "dolar_gas_price_dt.set_index('DATA', inplace=True)\n",
    "\n",
    "dolar_gas_price_dt = dolar_gas_price_dt.to_timestamp()\n",
    "dt_br_dolar_price = dt_br_dolar_price.to_timestamp()\n",
    "\n",
    "dolar_gas_price_dt = dolar_gas_price_dt['2011':'2019']\n",
    "\n",
    "dt_br_dolar_price.reset_index(inplace=True)\n",
    "\n",
    "dt_br_dolar_price.drop_duplicates(subset =\"date\",\n",
    "                     keep = 'last', inplace = True)\n",
    "\n",
    "dt_br_dolar_price.set_index('date', inplace=True)\n",
    "dolar_gas_price_dt['PREÇO DO DÓLAR'] = dt_br_dolar_price['brazil_usd']\n",
    "\n",
    "dolar_gas_price_dt.plot()"
   ],
   "metadata": {
    "collapsed": false,
    "pycharm": {
     "name": "#%%\n"
    }
   }
  },
  {
   "cell_type": "code",
   "execution_count": 461,
   "outputs": [
    {
     "data": {
      "text/plain": "                      PREÇO MÉDIO REVENDA\nDATA    REGIÃO                           \n2004-05 CENTRO OESTE             2.131500\n        NORDESTE                 2.042185\n        NORTE                    2.204810\n        SUDESTE                  1.983167\n        SUL                      2.055111\n...                                   ...\n2021-05 CENTRO OESTE             5.587000\n        NORDESTE                 5.390000\n        NORTE                    5.544143\n        SUDESTE                  5.672500\n        SUL                      5.381000\n\n[1020 rows x 1 columns]",
      "text/html": "<div>\n<style scoped>\n    .dataframe tbody tr th:only-of-type {\n        vertical-align: middle;\n    }\n\n    .dataframe tbody tr th {\n        vertical-align: top;\n    }\n\n    .dataframe thead th {\n        text-align: right;\n    }\n</style>\n<table border=\"1\" class=\"dataframe\">\n  <thead>\n    <tr style=\"text-align: right;\">\n      <th></th>\n      <th></th>\n      <th>PREÇO MÉDIO REVENDA</th>\n    </tr>\n    <tr>\n      <th>DATA</th>\n      <th>REGIÃO</th>\n      <th></th>\n    </tr>\n  </thead>\n  <tbody>\n    <tr>\n      <th rowspan=\"5\" valign=\"top\">2004-05</th>\n      <th>CENTRO OESTE</th>\n      <td>2.131500</td>\n    </tr>\n    <tr>\n      <th>NORDESTE</th>\n      <td>2.042185</td>\n    </tr>\n    <tr>\n      <th>NORTE</th>\n      <td>2.204810</td>\n    </tr>\n    <tr>\n      <th>SUDESTE</th>\n      <td>1.983167</td>\n    </tr>\n    <tr>\n      <th>SUL</th>\n      <td>2.055111</td>\n    </tr>\n    <tr>\n      <th>...</th>\n      <th>...</th>\n      <td>...</td>\n    </tr>\n    <tr>\n      <th rowspan=\"5\" valign=\"top\">2021-05</th>\n      <th>CENTRO OESTE</th>\n      <td>5.587000</td>\n    </tr>\n    <tr>\n      <th>NORDESTE</th>\n      <td>5.390000</td>\n    </tr>\n    <tr>\n      <th>NORTE</th>\n      <td>5.544143</td>\n    </tr>\n    <tr>\n      <th>SUDESTE</th>\n      <td>5.672500</td>\n    </tr>\n    <tr>\n      <th>SUL</th>\n      <td>5.381000</td>\n    </tr>\n  </tbody>\n</table>\n<p>1020 rows × 1 columns</p>\n</div>"
     },
     "execution_count": 461,
     "metadata": {},
     "output_type": "execute_result"
    }
   ],
   "source": [
    "all_region_dolar_gas_price_dt = gas_prices_df.copy()\n",
    "all_region_dolar_gas_price_dt.reset_index(inplace=True)\n",
    "all_region_dolar_gas_price_dt.set_index('DATA', inplace=True)\n",
    "\n",
    "all_region_dolar_gas_price_dt = all_region_dolar_gas_price_dt.groupby(by=['DATA', 'REGIÃO']).mean()\n",
    "all_region_dolar_gas_price_dt\n",
    "\n"
   ],
   "metadata": {
    "collapsed": false,
    "pycharm": {
     "name": "#%%\n"
    }
   }
  }
 ],
 "metadata": {
  "kernelspec": {
   "display_name": "Python 3",
   "language": "python",
   "name": "python3"
  },
  "language_info": {
   "codemirror_mode": {
    "name": "ipython",
    "version": 2
   },
   "file_extension": ".py",
   "mimetype": "text/x-python",
   "name": "python",
   "nbconvert_exporter": "python",
   "pygments_lexer": "ipython2",
   "version": "2.7.6"
  }
 },
 "nbformat": 4,
 "nbformat_minor": 0
}
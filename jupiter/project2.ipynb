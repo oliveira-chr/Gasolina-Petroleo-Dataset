{
 "cells": [
  {
   "cell_type": "code",
   "execution_count": null,
   "outputs": [],
   "source": [
    "import pandas as pd\n",
    "import matplotlib.pyplot as plt"
   ],
   "metadata": {
    "collapsed": false,
    "pycharm": {
     "name": "#%%\n"
    }
   }
  },
  {
   "cell_type": "code",
   "execution_count": null,
   "outputs": [],
   "source": [
    "plt.rcParams['figure.figsize'] = (11,7)\n",
    "plt.style.use('seaborn')"
   ],
   "metadata": {
    "collapsed": false,
    "pycharm": {
     "name": "#%%\n"
    }
   }
  },
  {
   "cell_type": "markdown",
   "source": [
    "# Load inflation rate dataset"
   ],
   "metadata": {
    "collapsed": false
   }
  },
  {
   "cell_type": "code",
   "execution_count": null,
   "outputs": [],
   "source": [
    "dt_inflation = pd.read_csv(r'../DataSet/inflation-rate-brazil.csv')\n",
    "dt_inflation['date'] = pd.to_datetime(dt_inflation['date']).dt.to_period('M')\n",
    "inflation_rate_dt = dt_inflation.set_index('date')['2011':'2019']\n",
    "inflation_rate_dt.sample(n=5)"
   ],
   "metadata": {
    "collapsed": false,
    "pycharm": {
     "name": "#%%\n"
    }
   }
  },
  {
   "cell_type": "markdown",
   "source": [
    "# Load gas price dataset"
   ],
   "metadata": {
    "collapsed": false
   }
  },
  {
   "cell_type": "code",
   "execution_count": null,
   "outputs": [],
   "source": [
    "original_gas_price_dt = pd.read_csv (r'..\\\\DataSet/2004-2021.tsv', sep = '\\t')\n",
    "is_gas = original_gas_price_dt['PRODUTO']==\"GASOLINA COMUM\"\n",
    "df_gas = original_gas_price_dt[is_gas]"
   ],
   "metadata": {
    "collapsed": false,
    "pycharm": {
     "name": "#%%\n"
    }
   }
  },
  {
   "cell_type": "code",
   "execution_count": null,
   "outputs": [],
   "source": [
    "df_gas['DATA FINAL'] = pd.to_datetime(df_gas['DATA FINAL'])\n",
    "\n",
    "df_gas['PREÇO MÉDIO DISTRIBUIÇÃO'] = pd.to_numeric(df_gas['PREÇO MÉDIO DISTRIBUIÇÃO'], errors='coerce')\n",
    "df_gas['PREÇO MÉDIO REVENDA'] = pd.to_numeric(df_gas['PREÇO MÉDIO REVENDA'], errors='coerce')\n",
    "\n",
    "df_gas.set_index(['DATA FINAL'], inplace=True)\n",
    "df_gas.head()"
   ],
   "metadata": {
    "collapsed": false,
    "pycharm": {
     "name": "#%%\n"
    }
   }
  },
  {
   "cell_type": "markdown",
   "source": [
    "# Filtering gas dataset"
   ],
   "metadata": {
    "collapsed": false
   }
  },
  {
   "cell_type": "code",
   "execution_count": null,
   "outputs": [],
   "source": [
    "used_columns = [\n",
    "    'DATA',\n",
    "    'PRODUTO',\n",
    "    'ESTADO',\n",
    "    'REGIÃO',\n",
    "    'PREÇO MÉDIO DISTRIBUIÇÃO',\n",
    "    'PREÇO MÉDIO REVENDA',\n",
    "]\n",
    "\n",
    "monthly_df = df_gas.groupby(['PRODUTO', 'ESTADO', 'REGIÃO']).resample('M').mean().reset_index()\n",
    "monthly_df['DATA'] = monthly_df['DATA FINAL'].dt.to_period('M')\n",
    "\n",
    "gas_prices_df = monthly_df[used_columns]\n",
    "gas_prices_df = gas_prices_df.dropna(how='any')\n",
    "\n",
    "gas_prices_df['VARIAÇÃO DIST X REV'] = gas_prices_df['PREÇO MÉDIO REVENDA'] - gas_prices_df['PREÇO MÉDIO DISTRIBUIÇÃO']\n",
    "gas_prices_df['VARIAÇÃO PERCENTUAL DIST X REV'] = gas_prices_df['VARIAÇÃO DIST X REV'] /  gas_prices_df['PREÇO MÉDIO DISTRIBUIÇÃO'] * 100\n",
    "\n",
    "gas_prices_df.set_index(['DATA', 'PRODUTO', 'ESTADO', 'REGIÃO'], inplace=True)\n",
    "gas_prices_df.sample(n=5)"
   ],
   "metadata": {
    "collapsed": false,
    "pycharm": {
     "name": "#%%\n"
    }
   }
  },
  {
   "cell_type": "markdown",
   "source": [
    "# Treating inflation data"
   ],
   "metadata": {
    "collapsed": false
   }
  },
  {
   "cell_type": "code",
   "execution_count": null,
   "outputs": [],
   "source": [
    "inflation_rate_gas_price_dt = gas_prices_df.copy()\n",
    "inflation_rate_gas_price_dt.sample(5)\n",
    "inflation_rate_gas_price_dt.reset_index(inplace=True)\n",
    "inflation_rate_gas_price_dt.set_index('DATA', inplace=True)\n",
    "inflation_rate_gas_price_dt['INFLAÇÃO ANUAL'] = inflation_rate_dt['annual_accumulation']\n",
    "inflation_rate_gas_price_dt['INFLAÇÃO ABSOLUTA'] = inflation_rate_dt['absolute_index']\n",
    "\n",
    "inflation_rate_gas_price_dt = inflation_rate_gas_price_dt.to_timestamp()\n",
    "\n",
    "inflation_rate_gas_price_dt = inflation_rate_gas_price_dt[:'2019']\n",
    "inflation_rate_gas_price_dt.sample(5)"
   ],
   "metadata": {
    "collapsed": false,
    "pycharm": {
     "name": "#%%\n"
    }
   }
  },
  {
   "cell_type": "markdown",
   "source": [
    "# Comparing inflation effect on gas price"
   ],
   "metadata": {
    "collapsed": false
   }
  },
  {
   "cell_type": "code",
   "execution_count": null,
   "outputs": [],
   "source": [
    "# TODO: Limpar datas que não estão sendo utilizadas do dt\n",
    "\n",
    "annual_price_change_df = inflation_rate_gas_price_dt.groupby(['DATA']).mean()\n",
    "annual_price_change_df['VARIAÇÃO'] = annual_price_change_df['PREÇO MÉDIO REVENDA'].pct_change()\n",
    "annual_price_change_df['VARIAÇÃO 12 MESES'] = annual_price_change_df['VARIAÇÃO'].rolling(min_periods=12, window=12).sum() * 100\n",
    "annual_price_change_df.tail()\n",
    "\n",
    "# ploting\n",
    "fig, ax_gas = plt.subplots()\n",
    "annual_price_change_df\n",
    "# annual_price_change_df.plot(y='VARIAÇÃO 12 MESES', c='#4c72b0', ax=ax_gas)\n",
    "# fig.suptitle('Variação da Inflação e Preço Acumulado - ' + 'GASOLINA COMUM')\n",
    "# ax_gas.set_xlabel('Data de pesquisa')\n",
    "# ax_gas.set_ylabel('% - Variação Acumulativa - 12 meses', color='#4c72b0')\n",
    "# ax_gas.get_legend().remove()\n",
    "# ax_gas.grid(True)\n",
    "#\n",
    "# # plot_inflation\n",
    "# ax_inflation = ax_gas.twinx()\n",
    "#\n",
    "# annual_price_change_df.plot(y='INFLAÇÃO ANUAL', ax=ax_inflation, c='#55a868')\n",
    "# ax_inflation.set_ylabel('% - Inflação Acumulada - 12 meses', color='#55a868')\n",
    "# ax_inflation.get_legend().remove()\n",
    "# ax_inflation.grid(False)\n",
    "# plt.show()"
   ],
   "metadata": {
    "collapsed": false,
    "pycharm": {
     "name": "#%%\n"
    }
   }
  },
  {
   "cell_type": "code",
   "execution_count": null,
   "outputs": [],
   "source": [
    "def plot_avg_region():\n",
    "    avg_per_region_for_product_df = inflation_rate_gas_price_dt['2011':].groupby(['PRODUTO', 'REGIÃO', 'DATA']).mean()\n",
    "\n",
    "    fig, ax = plt.subplots()\n",
    "    fig.suptitle('Preço por Região - ' + 'GASOLINA COMUM')\n",
    "\n",
    "    for key, grp in avg_per_region_for_product_df.groupby('REGIÃO'):\n",
    "        grp_as_timeseries = grp.reset_index().set_index('DATA')\n",
    "        grp_as_timeseries.plot(y='PREÇO MÉDIO REVENDA', label=key, ax=ax)\n",
    "\n",
    "        ax.set_xlabel('Data')\n",
    "        ax.set_ylabel('Preço - R$/l')\n",
    "\n",
    "    plt.grid(True)\n",
    "    plt.show()\n",
    "\n",
    "plot_avg_region()"
   ],
   "metadata": {
    "collapsed": false,
    "pycharm": {
     "name": "#%%\n"
    }
   }
  }
 ],
 "metadata": {
  "kernelspec": {
   "display_name": "Python 3",
   "language": "python",
   "name": "python3"
  },
  "language_info": {
   "codemirror_mode": {
    "name": "ipython",
    "version": 2
   },
   "file_extension": ".py",
   "mimetype": "text/x-python",
   "name": "python",
   "nbconvert_exporter": "python",
   "pygments_lexer": "ipython2",
   "version": "2.7.6"
  }
 },
 "nbformat": 4,
 "nbformat_minor": 0
}
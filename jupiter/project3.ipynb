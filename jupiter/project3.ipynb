{
 "cells": [
  {
   "cell_type": "code",
   "execution_count": null,
   "metadata": {
    "collapsed": false,
    "pycharm": {
     "name": "#%%\n"
    }
   },
   "outputs": [],
   "source": [
    "import pandas as pd\n",
    "import numpy as np\n",
    "import matplotlib.pyplot as plt\n",
    "\n",
    "plt.rcParams['figure.figsize'] = (11,7)\n",
    "plt.style.use('seaborn')\n",
    "\n",
    "dt_dolar_price = pd.read_csv('../DataSet/Foreign_Exchange_Rates.csv')\n",
    "# dt_dolar_price.info() TODO\n",
    "\n",
    "dt_br_dolar_price = dt_dolar_price[['BRAZIL - REAL/US$']]\n",
    "\n",
    "dt_br_dolar_price['date'] = pd.to_datetime(dt_dolar_price['Time Serie']).dt.to_period('M')\n",
    "dt_br_dolar_price = dt_br_dolar_price.set_index('date')['2011':'2019']\n",
    "\n",
    "# dt_br_dolar_price['Time Serie'] = pd.to_datetime(dt_br_dolar_price['Time Serie'], format='%Y-%m-%d')\n",
    "# dt_br_dolar_price['month'] = pd.DatetimeIndex(dt_br_dolar_price['Time Serie']).month\n",
    "# dt_br_dolar_price['year'] = pd.DatetimeIndex(dt_br_dolar_price['Time Serie']).year\n",
    "dt_br_dolar_price.rename(columns= {'BRAZIL - REAL/US$': 'brazil_usd'}, inplace=True)\n",
    "\n",
    "dt_br_dolar_price = dt_br_dolar_price.replace('ND', np.NaN)\n",
    "\n",
    "dt_br_dolar_price.dropna(subset = [\"brazil_usd\"], inplace=True)\n",
    "\n",
    "dt_br_dolar_price[\"brazil_usd\"] = dt_br_dolar_price.brazil_usd.astype(float)\n",
    "\n",
    "# dt_br_dolar_price = dt_br_dolar_price.groupby(by=['year', 'month']).mean()\n",
    "# dt_br_dolar_price.plot()\n",
    "dt_br_dolar_price.sample(5)\n",
    "\n",
    "\n",
    "\n"
   ]
  },
  {
   "cell_type": "code",
   "execution_count": null,
   "metadata": {
    "collapsed": false,
    "pycharm": {
     "name": "#%%\n"
    }
   },
   "outputs": [],
   "source": [
    "original_gas_price_dt = pd.read_csv (r'..\\\\DataSet/2004-2021.tsv', sep = '\\t')\n",
    "is_gas = original_gas_price_dt['PRODUTO']==\"GASOLINA COMUM\"\n",
    "df_gas = original_gas_price_dt[is_gas]"
   ]
  },
  {
   "cell_type": "code",
   "execution_count": null,
   "metadata": {
    "collapsed": false,
    "pycharm": {
     "name": "#%%\n"
    }
   },
   "outputs": [],
   "source": [
    "df_gas['DATA FINAL'] = pd.to_datetime(df_gas['DATA FINAL'])\n",
    "\n",
    "df_gas['PREÇO MÉDIO REVENDA'] = pd.to_numeric(df_gas['PREÇO MÉDIO REVENDA'], errors='coerce')\n",
    "\n",
    "df_gas.set_index(['DATA FINAL'], inplace=True)"
   ]
  },
  {
   "cell_type": "code",
   "execution_count": null,
   "metadata": {
    "collapsed": false,
    "pycharm": {
     "name": "#%%\n"
    }
   },
   "outputs": [],
   "source": [
    "used_columns = [\n",
    "    'DATA',\n",
    "    'REGIÃO',\n",
    "    'PREÇO MÉDIO REVENDA',\n",
    "]\n",
    "\n",
    "monthly_df = df_gas.groupby(['REGIÃO']).resample('M').mean().reset_index()\n",
    "monthly_df['DATA'] = monthly_df['DATA FINAL'] #.dt.to_period('M')\n",
    "\n",
    "gas_prices_df = monthly_df[used_columns]\n",
    "gas_prices_df = gas_prices_df.dropna(how='any')\n",
    "\n",
    "gas_prices_df.set_index(['DATA'], inplace=True)\n",
    "gas_prices_df.sample(n=5)"
   ]
  },
  {
   "cell_type": "code",
   "execution_count": null,
   "metadata": {
    "collapsed": false,
    "pycharm": {
     "name": "#%%\n"
    }
   },
   "outputs": [],
   "source": [
    "dolar_gas_price_dt = gas_prices_df.copy()\n",
    "dolar_gas_price_dt.reset_index(inplace=True)\n",
    "dolar_gas_price_dt.set_index('DATA', inplace=True)\n",
    "dolar_gas_price_dt"
   ]
  },
  {
   "cell_type": "code",
   "execution_count": null,
   "metadata": {
    "collapsed": false,
    "pycharm": {
     "name": "#%%\n"
    }
   },
   "outputs": [],
   "source": [
    "region_centro_oeste = dolar_gas_price_dt['REGIÃO']==\"CENTRO OESTE\"\n",
    "dolar_gas_price_dt = dolar_gas_price_dt[region_centro_oeste]\n",
    "\n",
    "dolar_gas_price_dt.reset_index(inplace=True)\n",
    "dolar_gas_price_dt.set_index('DATA', inplace=True)\n",
    "\n",
    "#dolar_gas_price_dt = dolar_gas_price_dt.to_timestamp()\n",
    "dt_br_dolar_price = dt_br_dolar_price.to_timestamp()\n",
    "\n",
    "#dolar_gas_price_dt = dolar_gas_price_dt['2011':'2019']\n",
    "\n",
    "dt_br_dolar_price.reset_index(inplace=True)\n",
    "\n",
    "dt_br_dolar_price.drop_duplicates(subset =\"date\",\n",
    "                     keep = 'last', inplace = True)\n",
    "\n",
    "dt_br_dolar_price.set_index('date', inplace=True)\n",
    "dolar_gas_price_dt['PREÇO DO DÓLAR'] = dt_br_dolar_price['brazil_usd']\n",
    "\n",
    "dolar_gas_price_dt.plot()"
   ]
  },
  {
   "cell_type": "code",
   "execution_count": null,
   "metadata": {
    "collapsed": false,
    "pycharm": {
     "name": "#%%\n"
    }
   },
   "outputs": [],
   "source": [
    "all_region_dolar_gas_price_dt = gas_prices_df.copy()\n",
    "all_region_dolar_gas_price_dt.reset_index(inplace=True)\n",
    "all_region_dolar_gas_price_dt = all_region_dolar_gas_price_dt.drop(['REGIÃO'], axis=1)\n",
    "all_region_dolar_gas_price_dt['month'] = pd.DatetimeIndex(all_region_dolar_gas_price_dt['DATA']).month\n",
    "all_region_dolar_gas_price_dt['year'] = pd.DatetimeIndex(all_region_dolar_gas_price_dt['DATA']).year\n",
    "all_region_dolar_gas_price_dt['day'] = 1\n",
    "#all_region_dolar_gas_price_dt.set_index('DATA', inplace=True)\n",
    "all_region_dolar_gas_price_dt = all_region_dolar_gas_price_dt.groupby(['year', 'month']).mean() \n",
    "all_region_dolar_gas_price_dt = all_region_dolar_gas_price_dt.sort_values(['year', 'month'], ascending=True) \n",
    "all_region_dolar_gas_price_dt.reset_index(inplace=True)\n",
    "all_region_dolar_gas_price_dt['Date'] = pd.to_datetime(all_region_dolar_gas_price_dt[['month', 'day', 'year']])\n",
    "all_region_dolar_gas_price_dt = all_region_dolar_gas_price_dt.drop(['year','month', 'day'], axis=1)\n",
    "all_region_dolar_gas_price_dt = all_region_dolar_gas_price_dt.groupby(by=['Date']).mean()\n",
    "all_region_dolar_gas_price_dt\n",
    "\n"
   ]
  }
 ],
 "metadata": {
  "interpreter": {
   "hash": "a170ce8ac98000004ac823d4c2746510311ea0f239e9a75bb2f83eec9b87d659"
  },
  "kernelspec": {
   "display_name": "Python 3.10.3 ('venv': venv)",
   "language": "python",
   "name": "python3"
  },
  "language_info": {
   "codemirror_mode": {
    "name": "ipython",
    "version": 3
   },
   "file_extension": ".py",
   "mimetype": "text/x-python",
   "name": "python",
   "nbconvert_exporter": "python",
   "pygments_lexer": "ipython3",
   "version": "3.10.3"
  }
 },
 "nbformat": 4,
 "nbformat_minor": 0
}

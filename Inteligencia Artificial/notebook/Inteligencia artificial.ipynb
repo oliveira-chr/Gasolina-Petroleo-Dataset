{
 "cells": [
  {
   "cell_type": "code",
   "execution_count": null,
   "metadata": {},
   "outputs": [],
   "source": [
    "import pandas as pd\n",
    "import numpy as np"
   ]
  },
  {
   "cell_type": "code",
   "execution_count": null,
   "metadata": {},
   "outputs": [],
   "source": [
    "original_gas_price_dt = pd.read_csv(r'..\\\\..\\\\DataSet\\\\2004-2021.tsv', sep='\\t')\n",
    "is_gas = original_gas_price_dt['PRODUTO'] == \"GASOLINA COMUM\"\n",
    "df_gas = original_gas_price_dt[is_gas]\n",
    "\n",
    "is_reg = df_gas['REGIÃO'] == \"SUDESTE\"\n",
    "df_gas = df_gas[is_reg]\n",
    "\n",
    "is_est = df_gas['ESTADO'] == \"SAO PAULO\"\n",
    "df_gas = df_gas[is_est]\n",
    "\n",
    "df_gas.head()"
   ]
  },
  {
   "cell_type": "code",
   "execution_count": null,
   "metadata": {},
   "outputs": [],
   "source": [
    "df_gas = df_gas.drop(['PREÇO MÉDIO DISTRIBUIÇÃO',\n",
    "                          'DESVIO PADRÃO DISTRIBUIÇÃO',\n",
    "                          'PREÇO MÍNIMO DISTRIBUIÇÃO',\n",
    "                          'PREÇO MÁXIMO DISTRIBUIÇÃO',\n",
    "                          'COEF DE VARIAÇÃO DISTRIBUIÇÃO',\n",
    "                          'DATA FINAL',\n",
    "                          'PRODUTO',\n",
    "                          'ESTADO',\n",
    "                          'DESVIO PADRÃO REVENDA',\n",
    "                          'PREÇO MÍNIMO REVENDA',\n",
    "                          'PREÇO MÁXIMO REVENDA',\n",
    "                          'COEF DE VARIAÇÃO REVENDA',\n",
    "                          'REGIÃO',\n",
    "                          'NÚMERO DE POSTOS PESQUISADOS',\n",
    "                          'UNIDADE DE MEDIDA',\n",
    "                          'MARGEM MÉDIA REVENDA'], axis=1)\n",
    "\n",
    "df_gas['DATA INICIAL'] = pd.to_datetime(df_gas['DATA INICIAL'], format='%Y-%m-%d')\n",
    "df_mask = df_gas['DATA INICIAL'] > '2016-01-09'\n",
    "df_gas = df_gas[df_mask]\n",
    "df_gas = df_gas.groupby(pd.Grouper(key='DATA INICIAL', axis=0, freq='W')).mean()\n",
    "\n",
    "df_gas                "
   ]
  },
  {
   "cell_type": "code",
   "execution_count": null,
   "metadata": {},
   "outputs": [],
   "source": [
    "df_gas.info()"
   ]
  },
  {
   "cell_type": "code",
   "execution_count": null,
   "metadata": {},
   "outputs": [],
   "source": [
    "df_orig_dolar = pd.read_csv(r'..\\\\Cotação do Dólar por período.csv')\n",
    "df_orig_dolar = df_orig_dolar.drop(['cotacaoCompra'], axis=1)\n",
    "df_orig_dolar['dataHoraCotacao'] = pd.to_datetime(df_orig_dolar['dataHoraCotacao'], format='%Y-%m-%d %H:%M:%S')\n",
    "\n",
    "df_orig_dolar['cotacaoVenda'] = df_orig_dolar['cotacaoVenda'].str.replace(',','.').astype(float)\n",
    "\n",
    "df_orig_dolar.head()"
   ]
  },
  {
   "cell_type": "code",
   "execution_count": null,
   "metadata": {},
   "outputs": [],
   "source": [
    "\n",
    "# df_orig_dolar['dataHoraCotacao'] = df_orig_dolar['dataHoraCotacao'].apply(lambda x: x.strftime('%Y-%m'))\n",
    "# df_orig_dolar['dataHoraCotacao'] = pd.to_datetime(df_orig_dolar['dataHoraCotacao'], format='%Y-%m')\n",
    "df_orig_dolar"
   ]
  },
  {
   "cell_type": "code",
   "execution_count": null,
   "metadata": {},
   "outputs": [],
   "source": [
    "df_orig_dolar = df_orig_dolar.groupby(pd.Grouper(key='dataHoraCotacao', axis=0, freq='W')).mean()\n",
    "df_orig_dolar"
   ]
  },
  {
   "cell_type": "code",
   "execution_count": null,
   "metadata": {},
   "outputs": [],
   "source": [
    "df_final = df_gas.copy() \n",
    "df_final['cotacaoVenda'] = df_orig_dolar['cotacaoVenda']\n",
    "df_final.rename(columns={\n",
    "        'PREÇO MÉDIO REVENDA': 'preco_gasolina',\n",
    "        'cotacaoVenda': 'preco_dolar'\n",
    "\n",
    "    }, inplace=True)\n",
    "df_final = df_final.dropna()\n",
    "#df_final.reset_index(inplace=True)\n",
    "df_final.head()"
   ]
  },
  {
   "cell_type": "markdown",
   "metadata": {},
   "source": [
    "# Grafico"
   ]
  },
  {
   "cell_type": "code",
   "execution_count": null,
   "metadata": {},
   "outputs": [],
   "source": [
    "import matplotlib.pyplot as plt "
   ]
  },
  {
   "cell_type": "code",
   "execution_count": null,
   "metadata": {},
   "outputs": [],
   "source": [
    "\n",
    "\n",
    "plt.scatter(df_final[[\"preco_gasolina\"]], df_final[[\"preco_dolar\"]])\n",
    "plt.xlabel(\"Gasolina(R$)\")\n",
    "plt.ylabel(\"Dolar(R$)\")\n",
    "plt.title(\"Relação entre preço gasolina e preço dolar\")\n",
    "\n"
   ]
  },
  {
   "cell_type": "markdown",
   "metadata": {},
   "source": [
    "# Pré-processamento"
   ]
  },
  {
   "cell_type": "code",
   "execution_count": null,
   "metadata": {},
   "outputs": [],
   "source": [
    "#Blibliotecas especificas para o aprendizado de máquina\n",
    "\n",
    "from sklearn.preprocessing import StandardScaler\n",
    "from sklearn.model_selection import train_test_split\n",
    "from sklearn.metrics import r2_score\n",
    "from sklearn.linear_model import SGDRegressor\n",
    "from sklearn.neural_network import MLPRegressor\n",
    "\n"
   ]
  },
  {
   "cell_type": "code",
   "execution_count": null,
   "metadata": {},
   "outputs": [],
   "source": [
    "X = df_final[[\"preco_dolar\"]]\n",
    "Y = df_final[[\"preco_gasolina\"]].values"
   ]
  },
  {
   "cell_type": "code",
   "execution_count": null,
   "metadata": {},
   "outputs": [],
   "source": [
    "#Normalização\n",
    "escala = StandardScaler() \n",
    "escala.fit(X)\n",
    "\n",
    "X_norm = escala.transform(X)\n",
    "# X_norm = X\n",
    "X_norm"
   ]
  },
  {
   "cell_type": "code",
   "execution_count": null,
   "metadata": {},
   "outputs": [],
   "source": [
    "#Dividir  em conjunto de treinamento e teste \n",
    "X_norm_train, X_norm_test, Y_train, Y_test = train_test_split(X_norm, Y, test_size= 0.3)"
   ]
  },
  {
   "cell_type": "code",
   "execution_count": null,
   "metadata": {},
   "outputs": [],
   "source": [
    "# rna = MLPRegressor(hidden_layer_sizes= (50, 25, 10),\n",
    "#                    max_iter = 2000,\n",
    "#                    tol = 0.000000001,\n",
    "#                    learning_rate_init = 0.01,\n",
    "#                    solver = \"sgd\",\n",
    "#                    activation = \"relu\",\n",
    "#                    learning_rate = \"constant\",\n",
    "#                    verbose = 2,)\n",
    "rna = MLPRegressor(hidden_layer_sizes= (50, 25, 10),\n",
    "                   max_iter = 2000,\n",
    "                   tol = 0.0000001,\n",
    "                   learning_rate_init = 0.1,\n",
    "                   solver = \"sgd\",\n",
    "                   activation = \"logistic\",\n",
    "                   learning_rate = \"constant\",\n",
    "                   verbose = 2,)\n",
    "rna.fit(X_norm_train, Y_train)                   "
   ]
  },
  {
   "cell_type": "code",
   "execution_count": null,
   "metadata": {},
   "outputs": [],
   "source": [
    "reglinear = SGDRegressor(max_iter=2000,\n",
    "                          tol = 0.0000001,\n",
    "                         eta0= 0.1,\n",
    "                         learning_rate=\"constant\",\n",
    "                         verbose=2,\n",
    "                        )\n",
    "reglinear.fit(X_norm_train, Y_train)                    "
   ]
  },
  {
   "cell_type": "markdown",
   "metadata": {},
   "source": [
    "# Pos- processamento"
   ]
  },
  {
   "cell_type": "code",
   "execution_count": null,
   "metadata": {},
   "outputs": [],
   "source": [
    "#Previssão do conjunto de teste\n",
    "Y_rna_previsao = rna.predict(X_norm_test)\n",
    "Y_rl_previsao = reglinear.predict(X_norm_test)"
   ]
  },
  {
   "cell_type": "code",
   "execution_count": null,
   "metadata": {},
   "outputs": [],
   "source": [
    "#Calcular o R^2\n",
    "r2_rna = r2_score(Y_test,Y_rna_previsao)\n",
    "r2_rl = r2_score(Y_test,Y_rl_previsao)\n",
    "\n",
    "print(\"R2 RNA:\", r2_rna)\n",
    "print(\"R2 RL:\", r2_rl)"
   ]
  },
  {
   "cell_type": "code",
   "execution_count": null,
   "metadata": {},
   "outputs": [],
   "source": [
    "X_test = escala.inverse_transform(X_norm_test)\n",
    "plt.scatter(X_test, Y_test, alpha = 0.5, label=\"Reais\")\n",
    "plt.scatter(X_test, Y_rna_previsao, alpha = 0.5, label=\"MLP\")\n",
    "plt.scatter(X_test, Y_rl_previsao, alpha = 0.5, label=\"Reg linear\")\n",
    "plt.xlabel(\"Peso(em kg)\")\n",
    "plt.ylabel(\"Autonomia (em km/L )\")\n",
    "plt.title (\"Comparação dos algoritmos previsto\")\n",
    "plt.legend(loc=1)"
   ]
  },
  {
   "cell_type": "markdown",
   "metadata": {},
   "source": [
    "# Previsão de Preço"
   ]
  },
  {
   "cell_type": "code",
   "execution_count": null,
   "metadata": {},
   "outputs": [],
   "source": [
    "df_final.info()"
   ]
  },
  {
   "cell_type": "code",
   "execution_count": null,
   "metadata": {},
   "outputs": [],
   "source": [
    "from sklearn.linear_model import LinearRegression"
   ]
  },
  {
   "cell_type": "code",
   "execution_count": null,
   "metadata": {},
   "outputs": [],
   "source": [
    "rates = {}\n",
    "models = {}\n",
    "#models['produto'] = reglinear\n",
    "models['produto'] = rna\n",
    "rates['2019-01-01'] = df_final['preco_dolar'].iloc[-1]\n",
    "for i in range(2020, 2025):\n",
    "    last_year = str(i - 1)+'-01-01'\n",
    "    curr_year = str(i)+'-01-01'\n",
    "    rates[curr_year]  = (rates[last_year] * 0.04) + rates[last_year]\n",
    "\n",
    "rates_df = pd.DataFrame(list(rates.items()), columns = ['DATA', 'preco_dolar'])\n",
    "\n",
    "rates_df['DATA'] = pd.to_datetime(rates_df['DATA'])\n",
    "rates_df.set_index('DATA', inplace=True)\n",
    "predictions = {}\n",
    "\n",
    "rates_df['PREVISÃO'] = models['produto'].predict(rates_df)\n",
    "rates_df"
   ]
  }
 ],
 "metadata": {
  "interpreter": {
   "hash": "a170ce8ac98000004ac823d4c2746510311ea0f239e9a75bb2f83eec9b87d659"
  },
  "kernelspec": {
   "display_name": "Python 3.10.3 ('venv': venv)",
   "language": "python",
   "name": "python3"
  },
  "language_info": {
   "codemirror_mode": {
    "name": "ipython",
    "version": 3
   },
   "file_extension": ".py",
   "mimetype": "text/x-python",
   "name": "python",
   "nbconvert_exporter": "python",
   "pygments_lexer": "ipython3",
   "version": "3.10.3"
  }
 },
 "nbformat": 4,
 "nbformat_minor": 0
}
